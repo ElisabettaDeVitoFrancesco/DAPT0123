{
 "cells": [
  {
   "cell_type": "markdown",
   "id": "afb4d657",
   "metadata": {},
   "source": [
    "# Esercizi"
   ]
  },
  {
   "cell_type": "markdown",
   "id": "43839da3",
   "metadata": {},
   "source": [
    "## Esercizio 01\n",
    "\n",
    "Abbiamo raccolto tutte le età degli studenti in una lista:\n",
    "eta_studenti = [20, 30, 40, 50, 60]\n",
    "\n",
    "utilizzando un ciclo for calcolare la media delle età\n",
    "Alla fine, stampa (a video) il risultato"
   ]
  },
  {
   "cell_type": "code",
   "execution_count": 1,
   "id": "96703c41",
   "metadata": {},
   "outputs": [
    {
     "data": {
      "text/plain": [
       "40.0"
      ]
     },
     "execution_count": 1,
     "metadata": {},
     "output_type": "execute_result"
    }
   ],
   "source": [
    "eta_studenti = [20, 30, 40, 50, 60]\n",
    "somma = 0\n",
    "\n",
    "for i in eta_studenti:\n",
    "    somma += i\n",
    "\n",
    "media_eta = somma / (len(eta_studenti))\n",
    "media_eta"
   ]
  },
  {
   "cell_type": "markdown",
   "id": "824672a8",
   "metadata": {},
   "source": [
    "## Esercizio 02\n",
    "\n",
    "Calcolare e stampare tutte le prime 10 potenze di 2 (e.g., 2⁰, 2¹, 2², …) utilizzando un ciclo while"
   ]
  },
  {
   "cell_type": "code",
   "execution_count": 2,
   "id": "1bbe949b",
   "metadata": {},
   "outputs": [
    {
     "name": "stdout",
     "output_type": "stream",
     "text": [
      "1\n",
      "2\n",
      "4\n",
      "8\n",
      "16\n",
      "32\n",
      "64\n",
      "128\n",
      "256\n",
      "512\n"
     ]
    }
   ],
   "source": [
    "esponente = 0\n",
    "limite = 10\n",
    "\n",
    "while esponente < limite:\n",
    "    \n",
    "    potenza = 2**esponente\n",
    "    print(potenza)\n",
    "    esponente += 1"
   ]
  },
  {
   "cell_type": "markdown",
   "id": "23232031",
   "metadata": {},
   "source": [
    "## Esercizio 03\n",
    "Calcolare e stampare tutte le prime 10 potenze di 2 utilizzando un ciclo for"
   ]
  },
  {
   "cell_type": "code",
   "execution_count": 3,
   "id": "2bfbbc6d",
   "metadata": {},
   "outputs": [
    {
     "name": "stdout",
     "output_type": "stream",
     "text": [
      "1\n",
      "2\n",
      "4\n",
      "8\n",
      "16\n",
      "32\n",
      "64\n",
      "128\n",
      "256\n",
      "512\n"
     ]
    }
   ],
   "source": [
    "for e in range(0,10):\n",
    "    potenza = 2**e\n",
    "    print(potenza)"
   ]
  },
  {
   "cell_type": "markdown",
   "id": "14357d0f",
   "metadata": {},
   "source": [
    "## Esercizio 04:\n",
    "Calcolare e stampare tutte le prime N potenze di 2 utilizzando un ciclo while"
   ]
  },
  {
   "cell_type": "code",
   "execution_count": 5,
   "id": "0c050c8a",
   "metadata": {},
   "outputs": [
    {
     "name": "stdout",
     "output_type": "stream",
     "text": [
      "Quante potenze in base 2? 3\n",
      "1\n",
      "2\n",
      "4\n"
     ]
    }
   ],
   "source": [
    "N = int(input(\"Quante potenze in base 2? \"))\n",
    "conta = 0\n",
    "esponente = 0\n",
    "\n",
    "while conta < N:\n",
    "    \n",
    "    potenza = 2**esponente\n",
    "    print(potenza)\n",
    "    \n",
    "    esponente += 1\n",
    "    conta += 1"
   ]
  },
  {
   "cell_type": "markdown",
   "id": "1731e71a",
   "metadata": {},
   "source": [
    "## Esercizio 05\n",
    "Calcolare (ma non stampare) le prime N potenze di 2; ognuna di esse andrà memorizzata in coda a una lista\n",
    "Alla fine, stampare la lista risultante"
   ]
  },
  {
   "cell_type": "code",
   "execution_count": 7,
   "id": "5f311e54",
   "metadata": {},
   "outputs": [
    {
     "name": "stdout",
     "output_type": "stream",
     "text": [
      "Quante potenze in base 2? 4\n"
     ]
    },
    {
     "data": {
      "text/plain": [
       "[1, 2, 4, 8]"
      ]
     },
     "execution_count": 7,
     "metadata": {},
     "output_type": "execute_result"
    }
   ],
   "source": [
    "N = int(input(\"Quante potenze in base 2? \"))\n",
    "\n",
    "potenze = []\n",
    "\n",
    "for e in range(0,N):\n",
    "    potenza = 2**e\n",
    "    \n",
    "    potenze.append(potenza)\n",
    "\n",
    "potenze"
   ]
  },
  {
   "cell_type": "markdown",
   "id": "f42334e6",
   "metadata": {},
   "source": [
    "## Esercizio 06\n",
    "Calcolare (ma non stampare) le prime N potenze di 3; ognuna di esse andrà memorizzata in coda a una lista\n",
    "Alla fine, stampare la lista risultante"
   ]
  },
  {
   "cell_type": "code",
   "execution_count": 8,
   "id": "7af80e14",
   "metadata": {},
   "outputs": [
    {
     "name": "stdout",
     "output_type": "stream",
     "text": [
      "Quante potenze in base 3? 5\n"
     ]
    },
    {
     "data": {
      "text/plain": [
       "[1, 3, 9, 27, 81]"
      ]
     },
     "execution_count": 8,
     "metadata": {},
     "output_type": "execute_result"
    }
   ],
   "source": [
    "base = 3\n",
    "\n",
    "N = int(input(f\"Quante potenze in base {base}? \"))\n",
    "\n",
    "potenze = []\n",
    "\n",
    "for e in range(0,N):\n",
    "    potenza = base**e\n",
    "    \n",
    "    potenze.append(potenza)\n",
    "\n",
    "potenze"
   ]
  },
  {
   "cell_type": "markdown",
   "id": "5d8eef17",
   "metadata": {},
   "source": [
    "## Esercizio 07\n",
    "Calcolare (ma non stampare) le prime N potenze di K; ognuna di esse andrà memorizzata in coda a una lista\n",
    "Alla fine, stampare la lista risultante"
   ]
  },
  {
   "cell_type": "code",
   "execution_count": 10,
   "id": "9a3aaa14",
   "metadata": {},
   "outputs": [
    {
     "name": "stdout",
     "output_type": "stream",
     "text": [
      "Base: 4\n",
      "Quante potenze in base 4? 7\n"
     ]
    },
    {
     "data": {
      "text/plain": [
       "[1, 4, 16, 64, 256, 1024, 4096]"
      ]
     },
     "execution_count": 10,
     "metadata": {},
     "output_type": "execute_result"
    }
   ],
   "source": [
    "K = int(input(\"Base: \"))\n",
    "\n",
    "N = int(input(f\"Quante potenze in base {K}? \"))\n",
    "\n",
    "potenze = []\n",
    "\n",
    "for e in range(0,N):\n",
    "    potenza = K**e\n",
    "    potenze.append(potenza)\n",
    "potenze"
   ]
  },
  {
   "cell_type": "markdown",
   "id": "0c033ae3",
   "metadata": {},
   "source": [
    "## Esercizio 08\n",
    "Calcolare e stampare tutte le potenze di 2 minori di 25000"
   ]
  },
  {
   "cell_type": "code",
   "execution_count": 5,
   "id": "e50c70f9",
   "metadata": {},
   "outputs": [
    {
     "name": "stdout",
     "output_type": "stream",
     "text": [
      "1\n",
      "2\n",
      "4\n",
      "8\n",
      "16\n",
      "32\n",
      "64\n",
      "128\n",
      "256\n",
      "512\n",
      "1024\n",
      "2048\n",
      "4096\n",
      "8192\n",
      "16384\n"
     ]
    }
   ],
   "source": [
    "K = 2\n",
    "e = 0\n",
    "potenza = K**e\n",
    "\n",
    "while potenza < 25000:\n",
    "    e += 1\n",
    "    print(potenza)\n",
    "    potenza = K**e"
   ]
  },
  {
   "cell_type": "markdown",
   "id": "78895a35",
   "metadata": {},
   "source": [
    "## Esercizio 09\n",
    "Calcolare e stampare tutte le potenze di 2 minori di un certo numero N"
   ]
  },
  {
   "cell_type": "code",
   "execution_count": 7,
   "id": "3bbcc48a",
   "metadata": {},
   "outputs": [
    {
     "name": "stdout",
     "output_type": "stream",
     "text": [
      "1\n",
      "2\n",
      "4\n",
      "8\n",
      "16\n",
      "32\n",
      "64\n",
      "128\n",
      "256\n",
      "512\n",
      "1024\n",
      "2048\n",
      "4096\n",
      "8192\n"
     ]
    }
   ],
   "source": [
    "K = 2\n",
    "e = 0\n",
    "N = 15000\n",
    "potenza = K**e\n",
    "\n",
    "while potenza < N:\n",
    "    e += 1\n",
    "    print(potenza)\n",
    "    potenza = K**e"
   ]
  },
  {
   "cell_type": "markdown",
   "id": "5067f04d",
   "metadata": {},
   "source": [
    "## Esercizio 10\n",
    "Calcolare e stampare tutte le prime 100 potenze di 2, ogni 3 (e.g. 2⁰, 2³, 2⁶, 2⁹, …)\n",
    "Oltre a stamparle, memorizzarle in coda a una lista\n",
    "Usate due metodi diversi:\n",
    "1. usare un for e range(100), e poi un if per visualizzare e memorizzare solo ogni 3\n",
    "2. usare un for e range(0, 100, 3)\n",
    "Alla fine, stampare anche la lista"
   ]
  },
  {
   "cell_type": "code",
   "execution_count": 13,
   "id": "8162e0b5",
   "metadata": {},
   "outputs": [
    {
     "name": "stdout",
     "output_type": "stream",
     "text": [
      "1\n",
      "8\n",
      "64\n",
      "512\n",
      "4096\n",
      "32768\n",
      "262144\n",
      "2097152\n",
      "16777216\n",
      "134217728\n",
      "1073741824\n",
      "8589934592\n",
      "68719476736\n",
      "549755813888\n",
      "4398046511104\n",
      "35184372088832\n",
      "281474976710656\n",
      "2251799813685248\n",
      "18014398509481984\n",
      "144115188075855872\n",
      "1152921504606846976\n",
      "9223372036854775808\n",
      "73786976294838206464\n",
      "590295810358705651712\n",
      "4722366482869645213696\n",
      "37778931862957161709568\n",
      "302231454903657293676544\n",
      "2417851639229258349412352\n",
      "19342813113834066795298816\n",
      "154742504910672534362390528\n",
      "1237940039285380274899124224\n",
      "9903520314283042199192993792\n",
      "79228162514264337593543950336\n",
      "633825300114114700748351602688\n"
     ]
    },
    {
     "data": {
      "text/plain": [
       "[1,\n",
       " 8,\n",
       " 64,\n",
       " 512,\n",
       " 4096,\n",
       " 32768,\n",
       " 262144,\n",
       " 2097152,\n",
       " 16777216,\n",
       " 134217728,\n",
       " 1073741824,\n",
       " 8589934592,\n",
       " 68719476736,\n",
       " 549755813888,\n",
       " 4398046511104,\n",
       " 35184372088832,\n",
       " 281474976710656,\n",
       " 2251799813685248,\n",
       " 18014398509481984,\n",
       " 144115188075855872,\n",
       " 1152921504606846976,\n",
       " 9223372036854775808,\n",
       " 73786976294838206464,\n",
       " 590295810358705651712,\n",
       " 4722366482869645213696,\n",
       " 37778931862957161709568,\n",
       " 302231454903657293676544,\n",
       " 2417851639229258349412352,\n",
       " 19342813113834066795298816,\n",
       " 154742504910672534362390528,\n",
       " 1237940039285380274899124224,\n",
       " 9903520314283042199192993792,\n",
       " 79228162514264337593543950336,\n",
       " 633825300114114700748351602688]"
      ]
     },
     "execution_count": 13,
     "metadata": {},
     "output_type": "execute_result"
    }
   ],
   "source": [
    "base = 2\n",
    "potenze = []\n",
    "\n",
    "for e in range(0,100):\n",
    "    potenza = base**e\n",
    "    \n",
    "    if e % 3 == 0:\n",
    "        print(potenza)\n",
    "        potenze.append(potenza)\n",
    "potenze"
   ]
  },
  {
   "cell_type": "code",
   "execution_count": 12,
   "id": "29740672",
   "metadata": {},
   "outputs": [
    {
     "name": "stdout",
     "output_type": "stream",
     "text": [
      "1\n",
      "8\n",
      "64\n",
      "512\n",
      "4096\n",
      "32768\n",
      "262144\n",
      "2097152\n",
      "16777216\n",
      "134217728\n",
      "1073741824\n",
      "8589934592\n",
      "68719476736\n",
      "549755813888\n",
      "4398046511104\n",
      "35184372088832\n",
      "281474976710656\n",
      "2251799813685248\n",
      "18014398509481984\n",
      "144115188075855872\n",
      "1152921504606846976\n",
      "9223372036854775808\n",
      "73786976294838206464\n",
      "590295810358705651712\n",
      "4722366482869645213696\n",
      "37778931862957161709568\n",
      "302231454903657293676544\n",
      "2417851639229258349412352\n",
      "19342813113834066795298816\n",
      "154742504910672534362390528\n",
      "1237940039285380274899124224\n",
      "9903520314283042199192993792\n",
      "79228162514264337593543950336\n",
      "633825300114114700748351602688\n"
     ]
    },
    {
     "data": {
      "text/plain": [
       "[1,\n",
       " 8,\n",
       " 64,\n",
       " 512,\n",
       " 4096,\n",
       " 32768,\n",
       " 262144,\n",
       " 2097152,\n",
       " 16777216,\n",
       " 134217728,\n",
       " 1073741824,\n",
       " 8589934592,\n",
       " 68719476736,\n",
       " 549755813888,\n",
       " 4398046511104,\n",
       " 35184372088832,\n",
       " 281474976710656,\n",
       " 2251799813685248,\n",
       " 18014398509481984,\n",
       " 144115188075855872,\n",
       " 1152921504606846976,\n",
       " 9223372036854775808,\n",
       " 73786976294838206464,\n",
       " 590295810358705651712,\n",
       " 4722366482869645213696,\n",
       " 37778931862957161709568,\n",
       " 302231454903657293676544,\n",
       " 2417851639229258349412352,\n",
       " 19342813113834066795298816,\n",
       " 154742504910672534362390528,\n",
       " 1237940039285380274899124224,\n",
       " 9903520314283042199192993792,\n",
       " 79228162514264337593543950336,\n",
       " 633825300114114700748351602688]"
      ]
     },
     "execution_count": 12,
     "metadata": {},
     "output_type": "execute_result"
    }
   ],
   "source": [
    "base = 2\n",
    "potenze = []\n",
    "\n",
    "for e in range(0,100,3):\n",
    "    potenza = base**e\n",
    "    \n",
    "    print(potenza)\n",
    "    potenze.append(potenza)\n",
    "potenze"
   ]
  },
  {
   "cell_type": "markdown",
   "id": "e34bfb06",
   "metadata": {},
   "source": [
    "## Esercizio 11\n",
    "Abbiamo una lista di studenti:\n",
    "studenti = [\"Alex\", \"Bob\", \"Cindy\", \"Dan\", \"Emma\", \"Faith\", \"Grace\", \"Henry\"]\n",
    "\n",
    "utilizzare un ciclo for per stampare i nomi di tutti gli studenti con questa formattazione:\n",
    "Studenti:\n",
    "- Alex\n",
    "- Bob\n",
    "- Cindy\n",
    "..."
   ]
  },
  {
   "cell_type": "code",
   "execution_count": 15,
   "id": "bb337ced",
   "metadata": {},
   "outputs": [
    {
     "name": "stdout",
     "output_type": "stream",
     "text": [
      "Studenti:\n",
      "* Alex\n",
      "* Bob\n",
      "* Cindy\n",
      "* Dan\n",
      "* Emma\n",
      "* Faith\n",
      "* Grace\n",
      "* Henry\n"
     ]
    }
   ],
   "source": [
    "studenti = [\"Alex\", \"Bob\", \"Cindy\", \"Dan\", \"Emma\", \"Faith\", \"Grace\", \"Henry\"]\n",
    "\n",
    "print(\"Studenti:\")\n",
    "\n",
    "for s in studenti:\n",
    "    print(\"*\", s)"
   ]
  },
  {
   "attachments": {
    "image.png": {
     "image/png": "[encoded data removed]"
    }
   },
   "cell_type": "markdown",
   "id": "a34f6bfe",
   "metadata": {},
   "source": [
    "![image.png](attachment:image.png)"
   ]
  },
  {
   "cell_type": "markdown",
   "id": "5c98de36",
   "metadata": {},
   "source": [
    "```\n",
    "| \"P\" | \"Y\" | \"T\" | \"H\" | \"O\" | \"N\" |\n",
    "0     1     2     3     4     5     6\n",
    "-6   -5    -4    -3    -2    -1     0\n",
    "```\n",
    "Slicing si riferisce non all'indice della variabile, ma al TAGLIO tra un elemento e l'altro\n",
    "\n",
    "[0:4] -> prende P Y T H, fino al taglio nr 4"
   ]
  },
  {
   "cell_type": "markdown",
   "id": "12a57335",
   "metadata": {},
   "source": [
    "## Esercizio 12\n",
    "Abbiamo due liste, una di studenti e una di corsi:\n",
    "studenti = [\"Alex\", \"Bob\", \"Cindy\", \"Dan\", \"Emma\", \"Faith\", \"Grace\", \"Henry\"]\n",
    "corsi = [\"Cybersecurity\", \"Data Analyst\", \"Backend\", \"Frontend\", \"Data Analyst\", \"Backend\", \"Frontend\"]\n",
    "\n",
    "verificare che entrambe le liste abbiano la stessa lunghezza, e stampare a video una frase che ci dica se è così o meno\n",
    "\n"
   ]
  },
  {
   "cell_type": "code",
   "execution_count": 16,
   "id": "363efd72",
   "metadata": {},
   "outputs": [
    {
     "name": "stdout",
     "output_type": "stream",
     "text": [
      "Le due liste non hanno la stessa lunghezza\n"
     ]
    }
   ],
   "source": [
    "studenti = [\"Alex\", \"Bob\", \"Cindy\", \"Dan\", \"Emma\", \"Faith\", \"Grace\", \"Henry\"]\n",
    "corsi = [\"Cybersecurity\", \"Data Analyst\", \"Backend\", \"Frontend\", \"Data Analyst\", \"Backend\", \"Frontend\"]\n",
    "\n",
    "if len(studenti) == len(corsi):\n",
    "    print(\"Le due liste hanno la stessa lunghezza\")\n",
    "else:\n",
    "    print(\"Le due liste non hanno la stessa lunghezza\")"
   ]
  },
  {
   "cell_type": "markdown",
   "id": "5245f0db",
   "metadata": {},
   "source": [
    "## Esercizio 13\n",
    "Abbiamo due liste, una di studenti e una di corsi:\n",
    "studenti = [\"Alex\", \"Bob\", \"Cindy\", \"Dan\", \"Emma\", \"Faith\", \"Grace\", \"Henry\"]\n",
    "corsi = [\"Cybersecurity\", \"Data Analyst\", \"Backend\", \"Frontend\", \"Data Analyst\", \"Backend\"]\n",
    "\n",
    "aggiungere i dati mancanti alla lista corsi, sapendo che \n",
    "* Emma segue Data Analyst\n",
    "* Faith segue Backend\n",
    "* Grace segue Frontend\n",
    "* Henry segue Cybersecurity\n",
    "aggiungeremo i dati mancanti uno alla volta con il metodo per appendere in coda alle liste\n",
    "poi verificheremo che sono della stessa lunghezza e se lo sono stamperemo la lista corsi"
   ]
  },
  {
   "cell_type": "code",
   "execution_count": 25,
   "id": "6965d644",
   "metadata": {},
   "outputs": [
    {
     "name": "stdout",
     "output_type": "stream",
     "text": [
      "['Cybersecurity', 'Data Analyst', 'Backend', 'Frontend', 'Data Analyst', 'Backend', 'Frontend', 'Cybersecurity']\n",
      "Le due liste hanno ora la stessa lunghezza\n"
     ]
    }
   ],
   "source": [
    "studenti = [\"Alex\", \"Bob\", \"Cindy\", \"Dan\", \"Emma\", \"Faith\", \"Grace\", \"Henry\"]\n",
    "corsi = [\"Cybersecurity\", \"Data Analyst\", \"Backend\", \"Frontend\", \"Data Analyst\", \"Backend\"]\n",
    "\n",
    "corsi_mancanti = [\"Frontend\", \"Cybersecurity\"]\n",
    "\n",
    "if len(studenti) != len(corsi):\n",
    "    for c in corsi_mancanti:\n",
    "        corsi.append(c)\n",
    "print(corsi)\n",
    "\n",
    "\n",
    "if len(studenti) == len(corsi):\n",
    "    print(\"Le due liste hanno ora la stessa lunghezza\")\n",
    "else:\n",
    "    print(\"Le due liste non hanno ancora la stessa lunghezza\")"
   ]
  },
  {
   "cell_type": "markdown",
   "id": "4ee6c204",
   "metadata": {},
   "source": [
    "## Esercizio 14\n",
    "Abbiamo tre liste (sono tutte della stessa lunghezza):\n",
    "studenti = [\"Alex\", \"Bob\", \"Cindy\", \"Dan\", \"Emma\", \"Faith\", \"Grace\", \"Henry\"]\n",
    "corsi = [\"Cybersecurity\", \"Data Analyst\", \"Backend\", \"Frontend\", \"Data Analyst\", \"Backend\", \"Frontend\", \"Cybersecurity\"]\n",
    "edizioni = [1, 2, 3, 2, 2, 1, 3, 3]\n",
    "\n",
    "stampare a video, usando print, ogni studente che corso segue e di che edizione, e.g.:\n",
    "Alex segue Cybersecurity, edizione 1\n",
    "Bob segue Data Analyst, edizione 2\n",
    "...\n",
    "\n",
    "facendo in modo che non ci sia uno spazio tra il corso e la virgola subito dopo"
   ]
  },
  {
   "cell_type": "code",
   "execution_count": 27,
   "id": "4df87d18",
   "metadata": {},
   "outputs": [
    {
     "name": "stdout",
     "output_type": "stream",
     "text": [
      "Alex segue Cybersecurity, edizione 1\n",
      "Bob segue Data Analyst, edizione 2\n",
      "Cindy segue Backend, edizione 3\n",
      "Dan segue Frontend, edizione 2\n",
      "Emma segue Data Analyst, edizione 2\n",
      "Faith segue Backend, edizione 1\n",
      "Grace segue Frontend, edizione 3\n",
      "Henry segue Cybersecurity, edizione 3\n"
     ]
    }
   ],
   "source": [
    "studenti = [\"Alex\", \"Bob\", \"Cindy\", \"Dan\", \"Emma\", \"Faith\", \"Grace\", \"Henry\"]\n",
    "corsi = [\"Cybersecurity\", \"Data Analyst\", \"Backend\", \"Frontend\", \"Data Analyst\", \"Backend\", \"Frontend\", \"Cybersecurity\"]\n",
    "edizioni = [1, 2, 3, 2, 2, 1, 3, 3]\n",
    "\n",
    "for i in range(len(studenti)):\n",
    "    print(f\"{studenti[i]} segue {corsi[i]}, edizione {edizioni[i]}\")"
   ]
  },
  {
   "cell_type": "code",
   "execution_count": 37,
   "id": "257ea9cc",
   "metadata": {},
   "outputs": [
    {
     "name": "stdout",
     "output_type": "stream",
     "text": [
      "Alex Cybersecurity 1\n",
      "Bob Data Analyst 2\n",
      "Cindy Backend 3\n",
      "Dan Frontend 2\n",
      "Emma Data Analyst 2\n",
      "Faith Backend 1\n",
      "Grace Frontend 3\n",
      "Henry Cybersecurity 3\n"
     ]
    }
   ],
   "source": [
    "for studente, corso, edizione in zip(studenti, corsi, edizioni): # zip permette di prendere ogni elemento\n",
    "                                                                 # di tutte le liste scritte\n",
    "    print(studente, corso, edizione)"
   ]
  },
  {
   "cell_type": "markdown",
   "id": "712f45d1",
   "metadata": {},
   "source": [
    "## Esercizio 15\n",
    "Abbiamo una lista di parole:\n",
    "parole = [\"Albergo\", \"Sedia\", \"Borgo\", \"Petalo\", \"Belvedere\", \"Semestre\", \"Sosta\", \"Orpello\", \"Abete\"]\n",
    "\n",
    "stampiamo, per ogni parola, quante volte appare la lettera \"e\""
   ]
  },
  {
   "cell_type": "code",
   "execution_count": 33,
   "id": "854478e4",
   "metadata": {},
   "outputs": [
    {
     "data": {
      "text/plain": [
       "[1, 1, 0, 1, 4, 3, 0, 1, 2]"
      ]
     },
     "execution_count": 33,
     "metadata": {},
     "output_type": "execute_result"
    }
   ],
   "source": [
    "parole = [\"Albergo\", \"Sedia\", \"Borgo\", \"Petalo\", \"Belvedere\", \"Semestre\", \"Sosta\", \"Orpello\", \"Abete\"]\n",
    "list_nr_e = []\n",
    "\n",
    "for p in parole:\n",
    "    nr_e = 0\n",
    "    for c in p:\n",
    "        if c == \"e\":\n",
    "            nr_e +=1\n",
    "    list_nr_e.append(nr_e)\n",
    "list_nr_e   "
   ]
  },
  {
   "cell_type": "markdown",
   "id": "b9b88797",
   "metadata": {},
   "source": [
    "## Esercizio 16\n",
    "Abbiamo una lista di codici fiscali:\n",
    "lista_cf = [\"ABCDEF95G01A123B\", \"GHIJKL91M02A321C\", \"MNOPQR89S03A456D\", \"STUVWX95Z04A654E\", \"XYZABC01D05A789F\", \"DEFGHI95J06A987G\"]\n",
    "\n",
    "trovare i codici fiscali che contengono \"95\", metterli in una lista, e alla fine stamparla"
   ]
  },
  {
   "cell_type": "code",
   "execution_count": 29,
   "id": "064d0c8f",
   "metadata": {},
   "outputs": [
    {
     "data": {
      "text/plain": [
       "['ABCDEF95G01A123B', 'STUVWX95Z04A654E', 'DEFGHI95J06A987G']"
      ]
     },
     "execution_count": 29,
     "metadata": {},
     "output_type": "execute_result"
    }
   ],
   "source": [
    "lista_cf = [\"ABCDEF95G01A123B\", \"GHIJKL91M02A321C\", \"MNOPQR89S03A456D\", \"STUVWX95Z04A654E\", \"XYZABC01D05A789F\", \"DEFGHI95J06A987G\"]\n",
    "lista_cf_95 = []\n",
    "for l in lista_cf:\n",
    "    if \"95\" in l:\n",
    "        lista_cf_95.append(l)\n",
    "lista_cf_95"
   ]
  },
  {
   "cell_type": "markdown",
   "id": "5644a0b9",
   "metadata": {},
   "source": [
    "## Esercizio 17\n",
    "Abbiamo una lista di parole:\n",
    "parole = [\"Albergo\", \"Sedia\", \"Borgo\", \"Petalo\", \"Eremo\", \"Belvedere\", \"Semestre\", \"Esteta\", \"Sosta\", \"Orpello\", \"Abete\", \"Orologio\", \"Cesta\", \"Ermellino\"]\n",
    "\n",
    "stampiamo, per ogni parola, quante volte appare la lettera \"e\"\n",
    "poiché la lettera cercata appare sia minuscola che maiuscola, faremo due versioni:\n",
    "1. utilizzando il metodo .lower() delle stringhe sulla parola da analizzare, e.g.\n",
    "parola_in_minuscolo = parola.lower()\n",
    "for carattere in parola_in_minucolo:\n",
    "    if carattere == \"e\":\n",
    "        pass\n",
    "\n",
    "2. utilizzando una condizione composta, e.g.\n",
    "for carattere in parola:\n",
    "    if (carattere==\"e\") or (carattere==\"E\"):\n",
    "        pass"
   ]
  },
  {
   "cell_type": "code",
   "execution_count": 36,
   "id": "7cca43f9",
   "metadata": {},
   "outputs": [
    {
     "data": {
      "text/plain": [
       "[1, 1, 0, 1, 2, 4, 3, 2, 0, 1, 2, 0, 1, 2]"
      ]
     },
     "execution_count": 36,
     "metadata": {},
     "output_type": "execute_result"
    }
   ],
   "source": [
    "parole = [\"Albergo\", \"Sedia\", \"Borgo\", \"Petalo\", \"Eremo\", \"Belvedere\", \"Semestre\", \"Esteta\", \"Sosta\", \"Orpello\", \"Abete\", \"Orologio\", \"Cesta\", \"Ermellino\"]\n",
    "lista_nr_e = []\n",
    "\n",
    "for p in parole:\n",
    "    nr_e = 0\n",
    "    p = p.lower()\n",
    "    \n",
    "    for c in p:\n",
    "        if c == \"e\":\n",
    "            nr_e +=1\n",
    "    lista_nr_e.append(nr_e)\n",
    "lista_nr_e"
   ]
  },
  {
   "cell_type": "code",
   "execution_count": 38,
   "id": "393ac497",
   "metadata": {},
   "outputs": [
    {
     "data": {
      "text/plain": [
       "[1, 1, 0, 1, 2, 4, 3, 2, 0, 1, 2, 0, 1, 2]"
      ]
     },
     "execution_count": 38,
     "metadata": {},
     "output_type": "execute_result"
    }
   ],
   "source": [
    "parole = [\"Albergo\", \"Sedia\", \"Borgo\", \"Petalo\", \"Eremo\", \"Belvedere\", \"Semestre\", \"Esteta\", \"Sosta\", \"Orpello\", \"Abete\", \"Orologio\", \"Cesta\", \"Ermellino\"]\n",
    "lista_nr_e = []\n",
    "\n",
    "for p in parole:\n",
    "    nr_e = 0\n",
    "        \n",
    "    for c in p:\n",
    "        if c == \"e\" or c == \"E\":\n",
    "            nr_e +=1\n",
    "    lista_nr_e.append(nr_e)\n",
    "lista_nr_e"
   ]
  },
  {
   "cell_type": "markdown",
   "id": "c04581fb",
   "metadata": {},
   "source": [
    "## Esercizio 18\n",
    "Abbiamo tre liste della stessa lunghezza:\n",
    "studenti = [\"Alex\", \"Bob\", \"Cindy\", \"Dan\", \"Emma\", \"Faith\", \"Grace\", \"Henry\"]\n",
    "corsi = [\"Cybersecurity\", \"Data Analyst\", \"Backend\", \"Frontend\", \"Data Analyst\", \"Backend\", \"Frontend\", \"Cybersecurity\"]\n",
    "edizioni = [1, 2, 3, 2, 2, 1, 3, 3]\n",
    "\n",
    "Come nell'es. 14, ogni elemento nella medesima posizione si riferisce ai dati dello stesso studente.\n",
    "Stampare a video tutti e soli gli studenti che frequentano una prima edizione."
   ]
  },
  {
   "cell_type": "code",
   "execution_count": 39,
   "id": "0fcc11f1",
   "metadata": {},
   "outputs": [
    {
     "name": "stdout",
     "output_type": "stream",
     "text": [
      "Alex segue Cybersecurity, edizione 1\n",
      "Faith segue Backend, edizione 1\n"
     ]
    }
   ],
   "source": [
    "studenti = [\"Alex\", \"Bob\", \"Cindy\", \"Dan\", \"Emma\", \"Faith\", \"Grace\", \"Henry\"]\n",
    "corsi = [\"Cybersecurity\", \"Data Analyst\", \"Backend\", \"Frontend\", \"Data Analyst\", \"Backend\", \"Frontend\", \"Cybersecurity\"]\n",
    "edizioni = [1, 2, 3, 2, 2, 1, 3, 3]\n",
    "\n",
    "for i in range(len(studenti)):\n",
    "    if edizioni[i] == 1:\n",
    "        print(f\"{studenti[i]} segue {corsi[i]}, edizione {edizioni[i]}\")"
   ]
  },
  {
   "cell_type": "markdown",
   "id": "d39003bb",
   "metadata": {},
   "source": [
    "## Esercizio 19\n",
    "Abbiamo tre liste della stessa lunghezza:\n",
    "studenti = [\"Alex\", \"Bob\", \"Cindy\", \"Dan\", \"Emma\", \"Faith\", \"Grace\", \"Henry\"]\n",
    "corsi = [\"Cybersecurity\", \"Data Analyst\", \"Backend\", \"Frontend\", \"Data Analyst\", \"Backend\", \"Frontend\", \"Cybersecurity\"]\n",
    "edizioni = [1, 2, 3, 2, 2, 1, 3, 3]\n",
    "\n",
    "Come nell'es. 14, ogni elemento nella medesima posizione si riferisce ai dati dello stesso studente.\n",
    "Riuscite a vedere una similarità di qualche tipo con la logica che si usa in SQL e le tabelle relazionali?\n",
    "Utilizzeremo:\n",
    "* la mente"
   ]
  },
  {
   "cell_type": "markdown",
   "id": "5821ddb7",
   "metadata": {},
   "source": [
    "studenti == campo\n",
    "\n",
    "corsi == campo\n",
    "\n",
    "edizioni == campo\n",
    "\n",
    "studenti[i] corsi[i] edizioni[i] -> formano un record\n",
    "\n",
    "i dati sono correlati dalla posizione\n"
   ]
  },
  {
   "cell_type": "markdown",
   "id": "44f1426c",
   "metadata": {},
   "source": [
    "## Esercizio 20\n",
    "Abbiamo una lista di codici fiscali (come nell'es. 16):\n",
    "lista_cf = [\"ABCDEF95G01A123B\", \"GHIJKL91M02A321C\", \"MNOPQR89S03A456D\", \"STUVWX95Z04A654E\", \"XYZABC01D05A789F\", \"DEFGHI95J06A987G\"]\n",
    "\n",
    "Per ognuno di essi, stampare a video i caratteri relativi al nome e quelli relativi al cognome"
   ]
  },
  {
   "cell_type": "code",
   "execution_count": 40,
   "id": "6950cef7",
   "metadata": {},
   "outputs": [
    {
     "name": "stdout",
     "output_type": "stream",
     "text": [
      "I nomi dei CF sono ['ABC', 'GHI', 'MNO', 'STU', 'XYZ', 'DEF']\n",
      "I cognomi dei CF sono ['DEF', 'JKL', 'PQR', 'VWX', 'ABC', 'GHI']\n"
     ]
    }
   ],
   "source": [
    "lista_cf = [\"ABCDEF95G01A123B\", \"GHIJKL91M02A321C\", \"MNOPQR89S03A456D\", \"STUVWX95Z04A654E\", \"XYZABC01D05A789F\", \"DEFGHI95J06A987G\"]\n",
    "\n",
    "lista_cf_nomi = []\n",
    "lista_cf_cogn = []\n",
    "\n",
    "for l in lista_cf:\n",
    "    nome = l[:3]\n",
    "    cognome = l[3:6]\n",
    "    lista_cf_nomi.append(nome)\n",
    "    lista_cf_cogn.append(cognome)\n",
    "print(f\"I nomi dei CF sono {lista_cf_nomi}\\nI cognomi dei CF sono {lista_cf_cogn}\")"
   ]
  },
  {
   "cell_type": "markdown",
   "id": "e6ce4a16",
   "metadata": {},
   "source": [
    "# Esercizio 21\n",
    "Abbiamo una lista di numeri:\n",
    "\n",
    "numeri = [4, 10, 50, 100, 128, 71, 46]\n",
    "creare una nuova lista i cui elementi siano gli stessi di numeri incrementati di 10, mediante comprehension."
   ]
  },
  {
   "cell_type": "code",
   "execution_count": 2,
   "id": "d7248247",
   "metadata": {},
   "outputs": [
    {
     "data": {
      "text/plain": [
       "[14, 20, 60, 110, 138, 81, 56]"
      ]
     },
     "execution_count": 2,
     "metadata": {},
     "output_type": "execute_result"
    }
   ],
   "source": [
    "numeri = [4, 10, 50, 100, 128, 71, 46]\n",
    "\n",
    "numeri_10 = [n + 10 for n in numeri]\n",
    "numeri_10"
   ]
  },
  {
   "cell_type": "markdown",
   "id": "f27b44e1",
   "metadata": {},
   "source": [
    "# Esercizio 22\n",
    "Abbiamo una lista di numeri:\n",
    "\n",
    "numeri = [4, 10, 50, 100, 128, 71, 46]\n",
    "creare una nuova lista i cui elementi siano gli stessi di numeri ma raddoppiati, mediante comprehension."
   ]
  },
  {
   "cell_type": "code",
   "execution_count": 3,
   "id": "1b1feb6d",
   "metadata": {},
   "outputs": [
    {
     "data": {
      "text/plain": [
       "[8, 20, 100, 200, 256, 142, 92]"
      ]
     },
     "execution_count": 3,
     "metadata": {},
     "output_type": "execute_result"
    }
   ],
   "source": [
    "numeri = [4, 10, 50, 100, 128, 71, 46]\n",
    "\n",
    "numeri_doppio = [n*2 for n in numeri]\n",
    "numeri_doppio"
   ]
  },
  {
   "cell_type": "markdown",
   "id": "56e270f1",
   "metadata": {},
   "source": [
    "# Esercizio 23\n",
    "Abbiamo una lista di nomi:\n",
    "\n",
    "nomi = [\"Alex\", \"Bob\", \"Cindy\", \"Dan\", \"Emma\", \"Faith\", \"Grace\", \"Henry\"]\n",
    "creare una nuova lista i cui elementi siano le iniziali dei nomi, mediante comprehension."
   ]
  },
  {
   "cell_type": "code",
   "execution_count": 4,
   "id": "5393689f",
   "metadata": {},
   "outputs": [
    {
     "data": {
      "text/plain": [
       "['A', 'B', 'C', 'D', 'E', 'F', 'G', 'H']"
      ]
     },
     "execution_count": 4,
     "metadata": {},
     "output_type": "execute_result"
    }
   ],
   "source": [
    "nomi = [\"Alex\", \"Bob\", \"Cindy\", \"Dan\", \"Emma\", \"Faith\", \"Grace\", \"Henry\"]\n",
    "\n",
    "nomi_iniz = [nome[0] for nome in nomi]\n",
    "nomi_iniz"
   ]
  },
  {
   "cell_type": "markdown",
   "id": "421e1471",
   "metadata": {},
   "source": [
    "# Esercizio 24\n",
    "Abbiamo una lista di nomi:\n",
    "\n",
    "nomi = [\"Alex\", \"Bob\", \"Cindy\", \"Dan\", \"Emma\", \"Faith\", \"Grace\", \"Henry\"]\n",
    "creare una nuova lista i cui elementi siano le iniziali dei nomi seguite da punto, mediante comprehension."
   ]
  },
  {
   "cell_type": "code",
   "execution_count": 6,
   "id": "a5a77d3f",
   "metadata": {},
   "outputs": [
    {
     "data": {
      "text/plain": [
       "['A.', 'B.', 'C.', 'D.', 'E.', 'F.', 'G.', 'H.']"
      ]
     },
     "execution_count": 6,
     "metadata": {},
     "output_type": "execute_result"
    }
   ],
   "source": [
    "nomi = [\"Alex\", \"Bob\", \"Cindy\", \"Dan\", \"Emma\", \"Faith\", \"Grace\", \"Henry\"]\n",
    "\n",
    "nomi_iniz_p = [nome[0]+\".\" for nome in nomi]\n",
    "nomi_iniz_p"
   ]
  },
  {
   "cell_type": "markdown",
   "id": "54ed7dda",
   "metadata": {},
   "source": [
    "# Esercizio 25\n",
    "Abbiamo una lista di studenti:\n",
    "\n",
    "studenti = [\"Alex\", \"Bob\", \"Cindy\", \"Dan\", \"Emma\", \"Faith\", \"Grace\", \"Henry\", \"Isabelle\", \"John\"]\n",
    "vogliamo dividere gli studenti in due squadre per un campionato di Uno nel seguente modo: la prima metà per un squadra, e la seconda metà per l'altra.\n",
    "\n",
    "Creiamo due liste per ogni squadra, e alla fine visualizziamole."
   ]
  },
  {
   "cell_type": "code",
   "execution_count": 12,
   "id": "f3941242",
   "metadata": {},
   "outputs": [
    {
     "name": "stdout",
     "output_type": "stream",
     "text": [
      "Squadra A: ['Alex', 'Bob', 'Cindy', 'Dan', 'Emma']\n",
      "Sqaudra B: ['Faith', 'Grace', 'Henry', 'Isabelle', 'John']\n"
     ]
    }
   ],
   "source": [
    "studenti = [\"Alex\", \"Bob\", \"Cindy\", \"Dan\", \"Emma\", \"Faith\", \"Grace\", \"Henry\", \"Isabelle\", \"John\"]\n",
    "\n",
    "meta = int(len(studenti) / 2)\n",
    "\n",
    "squadra1 = studenti[0:meta]\n",
    "squadra2 = studenti[meta:]\n",
    "\n",
    "print(f\"Squadra A: {squadra1}\")\n",
    "print(f\"Sqaudra B: {squadra2}\")"
   ]
  },
  {
   "cell_type": "markdown",
   "id": "62f58e85",
   "metadata": {},
   "source": [
    "# Esercizio 26\n",
    "Abbiamo una lista di studenti:\n",
    "\n",
    "studenti = [\"Alex\", \"Bob\", \"Cindy\", \"Dan\", \"Emma\", \"Faith\", \"Grace\", \"Henry\", \"Isabelle\", \"John\"]\n",
    "vogliamo dividere gli studenti in due squadre per un campionato di Uno nel seguente modo: selezioneremo i nomi in posizione pari per un squadra, e i nomi in posizione dispari per l'altra.\n",
    "\n",
    "Creiamo due liste per ogni squadra, e alla fine visualizziamole."
   ]
  },
  {
   "cell_type": "code",
   "execution_count": 13,
   "id": "311156e0",
   "metadata": {},
   "outputs": [
    {
     "name": "stdout",
     "output_type": "stream",
     "text": [
      "Squadra Pari: ['Alex', 'Cindy', 'Emma', 'Grace', 'Isabelle']\n",
      "Sqaudra Dispari: ['Bob', 'Dan', 'Faith', 'Henry', 'John']\n"
     ]
    }
   ],
   "source": [
    "studenti = [\"Alex\", \"Bob\", \"Cindy\", \"Dan\", \"Emma\", \"Faith\", \"Grace\", \"Henry\", \"Isabelle\", \"John\"]\n",
    "squadra_pari = []\n",
    "squadra_dispari = []\n",
    "\n",
    "for s in range(len(studenti)):\n",
    "    if s % 2 == 0:\n",
    "        squadra_pari.append(studenti[s])\n",
    "    else:\n",
    "        squadra_dispari.append(studenti[s])\n",
    "\n",
    "print(f\"Squadra Pari: {squadra_pari}\")\n",
    "print(f\"Sqaudra Dispari: {squadra_dispari}\")"
   ]
  },
  {
   "cell_type": "markdown",
   "id": "33b87d5d",
   "metadata": {},
   "source": [
    "# Esercizio 27\n",
    "Abbiamo una lista di stringhe di prezzi in dollari, che erroneamente sono stati scritti con il simbolo dell'euro:\n",
    "\n",
    "prezzi = [\"100 €\", \"200 €\", \"500 €\", \"10 €\", \"50 €\", \"70 €\"]\n",
    "cambiare il simbolo dell'euro (€) in quello del dollaro ($) per ogni stringa nella lista, usando la comprehension."
   ]
  },
  {
   "cell_type": "code",
   "execution_count": 14,
   "id": "802d5310",
   "metadata": {},
   "outputs": [
    {
     "data": {
      "text/plain": [
       "['100 $', '200 $', '500 $', '10 $', '50 $', '70 $']"
      ]
     },
     "execution_count": 14,
     "metadata": {},
     "output_type": "execute_result"
    }
   ],
   "source": [
    "prezzi = [\"100 €\", \"200 €\", \"500 €\", \"10 €\", \"50 €\", \"70 €\"]\n",
    "\n",
    "prezzi_dollaro = [p[:-1]+\"$\" for p in prezzi]\n",
    "prezzi_dollaro"
   ]
  },
  {
   "cell_type": "markdown",
   "id": "d17a22a9",
   "metadata": {},
   "source": [
    "# Esercizio 28\n",
    "Abbiamo una lista con i guadagni degli ultimi 12 mesi (supponiamo da Gennaio a Dicembre):\n",
    "\n",
    "guadagni = [100, 90, 70, 40, 50, 80, 90, 120, 80, 20, 50, 50]\n",
    "dobbiamo confrontare, stampando tutto a video, il guadagno di ogni mese con la media dei guadagni precedenti; lo faremo tramite il metodo .pop()"
   ]
  },
  {
   "cell_type": "code",
   "execution_count": 3,
   "id": "22439c05",
   "metadata": {},
   "outputs": [
    {
     "name": "stdout",
     "output_type": "stream",
     "text": [
      "La media dei guadagni degli ultimi 11 mesi è di 71.81818181818181, e il guadagno del corrente mese è 50\n",
      "La media dei guadagni degli ultimi 10 mesi è di 74.0, e il guadagno del corrente mese è 50\n",
      "La media dei guadagni degli ultimi 9 mesi è di 80.0, e il guadagno del corrente mese è 20\n",
      "La media dei guadagni degli ultimi 8 mesi è di 80.0, e il guadagno del corrente mese è 80\n",
      "La media dei guadagni degli ultimi 7 mesi è di 74.28571428571429, e il guadagno del corrente mese è 120\n",
      "La media dei guadagni degli ultimi 6 mesi è di 71.66666666666667, e il guadagno del corrente mese è 90\n",
      "La media dei guadagni degli ultimi 5 mesi è di 70.0, e il guadagno del corrente mese è 80\n",
      "La media dei guadagni degli ultimi 4 mesi è di 75.0, e il guadagno del corrente mese è 50\n",
      "La media dei guadagni degli ultimi 3 mesi è di 86.66666666666667, e il guadagno del corrente mese è 40\n",
      "La media dei guadagni degli ultimi 2 mesi è di 95.0, e il guadagno del corrente mese è 70\n",
      "La media dei guadagni degli ultimi 1 mesi è di 100.0, e il guadagno del corrente mese è 90\n"
     ]
    }
   ],
   "source": [
    "guadagni = [100, 90, 70, 40, 50, 80, 90, 120, 80, 20, 50, 50]\n",
    "\n",
    "while len(guadagni) > 1:\n",
    "    ultimo_guadagno = guadagni.pop()\n",
    "    \n",
    "    N = len(guadagni)\n",
    "    somma_guadagni = 0\n",
    "    \n",
    "    for g in guadagni:\n",
    "        somma_guadagni = somma_guadagni + g\n",
    "    media_guadagni = somma_guadagni / N\n",
    "    \n",
    "    print(f\"La media dei guadagni degli ultimi {N} mesi è di {media_guadagni}, e il guadagno del corrente mese è {ultimo_guadagno}\")\n",
    "    "
   ]
  },
  {
   "cell_type": "markdown",
   "id": "45ff0bd7",
   "metadata": {},
   "source": [
    "# Esercizio 29\n",
    "Abbiamo una lista con i guadagni degli ultimi 12 mesi (supponiamo da Gennaio a Dicembre):\n",
    "\n",
    "guadagni = [100, 90, 70, 40, 50, 80, 90, 120, 80, 20, 50, 50]\n",
    "dobbiamo confrontare, stampando tutto a video, il guadagno di ogni mese con la media dei guadagni precedenti e se è maggiore o minore; lo faremo tramite il metodo .pop()."
   ]
  },
  {
   "cell_type": "code",
   "execution_count": 5,
   "id": "2561f3d6",
   "metadata": {},
   "outputs": [
    {
     "name": "stdout",
     "output_type": "stream",
     "text": [
      "La media dei guadagni degli ultimi 11 mesi è di 71.81818181818181 ed è maggiore di 50, guadagno del corrente mese \n",
      "La media dei guadagni degli ultimi 10 mesi è di 74.0 ed è maggiore di 50, guadagno del corrente mese \n",
      "La media dei guadagni degli ultimi 9 mesi è di 80.0 ed è maggiore di 20, guadagno del corrente mese \n",
      "La media dei guadagni degli ultimi 8 mesi è di 80.0 ed è maggiore di 80, guadagno del corrente mese \n",
      "La media dei guadagni degli ultimi 7 mesi è di 74.28571428571429 ed è minore di 120, guadagno del corrente mese \n",
      "La media dei guadagni degli ultimi 6 mesi è di 71.66666666666667 ed è minore di 90, guadagno del corrente mese \n",
      "La media dei guadagni degli ultimi 5 mesi è di 70.0 ed è minore di 80, guadagno del corrente mese \n",
      "La media dei guadagni degli ultimi 4 mesi è di 75.0 ed è maggiore di 50, guadagno del corrente mese \n",
      "La media dei guadagni degli ultimi 3 mesi è di 86.66666666666667 ed è maggiore di 40, guadagno del corrente mese \n",
      "La media dei guadagni degli ultimi 2 mesi è di 95.0 ed è maggiore di 70, guadagno del corrente mese \n",
      "La media dei guadagni degli ultimi 1 mesi è di 100.0 ed è maggiore di 90, guadagno del corrente mese \n"
     ]
    }
   ],
   "source": [
    "guadagni = [100, 90, 70, 40, 50, 80, 90, 120, 80, 20, 50, 50]\n",
    "\n",
    "while len(guadagni) > 1:\n",
    "    ultimo_guadagno = guadagni.pop()\n",
    "    \n",
    "    N = len(guadagni)\n",
    "    somma_guadagni = 0\n",
    "    \n",
    "    for g in guadagni:\n",
    "        somma_guadagni = somma_guadagni + g\n",
    "        \n",
    "    media_guadagni = somma_guadagni / N\n",
    "    \n",
    "    if ultimo_guadagno > media_guadagni:\n",
    "        print(f\"La media dei guadagni degli ultimi {N} mesi è di {media_guadagni} ed è minore di {ultimo_guadagno}, guadagno del corrente mese \")\n",
    "    else:\n",
    "        print(f\"La media dei guadagni degli ultimi {N} mesi è di {media_guadagni} ed è maggiore di {ultimo_guadagno}, guadagno del corrente mese \")\n"
   ]
  },
  {
   "cell_type": "markdown",
   "id": "f239ee1a",
   "metadata": {},
   "source": [
    "# Esercizio 30\n",
    "Creiamo un dizionario che assegni ad ogni proprietario la sua auto, sapendo che:\n",
    "\n",
    "Ada guida una Punto\n",
    "Ben guida una Multipla\n",
    "Charlie guida una Golf\n",
    "Debbie guida una 107 Poi stampiamo il dizionario per intero, e poi l'auto associata a Debbie."
   ]
  },
  {
   "cell_type": "code",
   "execution_count": 8,
   "id": "8d394672",
   "metadata": {},
   "outputs": [
    {
     "name": "stdout",
     "output_type": "stream",
     "text": [
      "{'Ada': 'Punto', 'Ben': 'Multipla', 'Charlie': 'Golf', 'Debbie': '107'}\n",
      "Punto\n"
     ]
    }
   ],
   "source": [
    "propr_auto = {\"Ada\" : \"Punto\",\n",
    "              \"Ben\" : \"Multipla\",\n",
    "              \"Charlie\" : \"Golf\",\n",
    "              \"Debbie\" : \"107\"}\n",
    "print(propr_auto)\n",
    "print(f\"{propr_auto[\"Ada\"]}\")"
   ]
  },
  {
   "cell_type": "markdown",
   "id": "de6fb427",
   "metadata": {},
   "source": [
    "# Esercizio 31\n",
    "Abbiamo un dizionario che assegni ad ogni proprietario la sua auto:\n",
    "\n",
    "dizionario_auto = {\"Ada\": \"Punto\", \"Ben\": \"Multipla\", \"Charlie\": \"Golf\", \"Debbie\": \"107\"}\n",
    "Aggiungere i proprietari Emily e Fred che posseggono rispettivamente una A1 e una Octavia; eliminare i dati relativi a Ben. Stampare il dizionario per controllare che sia tutto corretto."
   ]
  },
  {
   "cell_type": "code",
   "execution_count": 9,
   "id": "9b5183bf",
   "metadata": {},
   "outputs": [
    {
     "data": {
      "text/plain": [
       "{'Ada': 'Punto',\n",
       " 'Ben': 'Multipla',\n",
       " 'Charlie': 'Golf',\n",
       " 'Debbie': '107',\n",
       " 'Emily': 'A1',\n",
       " 'Fred': 'Octavia'}"
      ]
     },
     "execution_count": 9,
     "metadata": {},
     "output_type": "execute_result"
    }
   ],
   "source": [
    "dizionario_auto = {\"Ada\": \"Punto\", \"Ben\": \"Multipla\", \"Charlie\": \"Golf\", \"Debbie\": \"107\"}\n",
    "dizionario_auto.update({\"Emily\" : \"A1\", \"Fred\" : \"Octavia\"})\n",
    "dizionario_auto"
   ]
  },
  {
   "cell_type": "markdown",
   "id": "5e237ed5",
   "metadata": {},
   "source": [
    "# Esercizio 32\n",
    "Abbiamo due dizionari che assegnano ad ogni proprietario la propria auto:\n",
    "\n",
    "dizionario_auto = {\"Ada\": \"Punto\", \"Ben\": \"Multipla\", \"Charlie\": \"Golf\", \"Debbie\": \"107\", \"Emily\": \"A1\"}\n",
    "nuovi_proprietari = {\"Ben\": \"Polo\", \"Fred\": \"Octavia\", \"Grace\": \"Yaris\", \"Hugh\": \"Clio\"}\n",
    "Aggiornare il dizionario dizionario_auto con i dati contenuti in nuovi_proprietari e stamparlo. Cosa è successo a Ben?"
   ]
  },
  {
   "cell_type": "code",
   "execution_count": 10,
   "id": "d28fd195",
   "metadata": {},
   "outputs": [
    {
     "data": {
      "text/plain": [
       "{'Ada': 'Punto',\n",
       " 'Ben': 'Polo',\n",
       " 'Charlie': 'Golf',\n",
       " 'Debbie': '107',\n",
       " 'Emily': 'A1',\n",
       " 'Fred': 'Octavia',\n",
       " 'Grace': 'Yaris',\n",
       " 'Hugh': 'Clio'}"
      ]
     },
     "execution_count": 10,
     "metadata": {},
     "output_type": "execute_result"
    }
   ],
   "source": [
    "dizionario_auto = {\"Ada\": \"Punto\", \"Ben\": \"Multipla\", \"Charlie\": \"Golf\", \"Debbie\": \"107\", \"Emily\": \"A1\"}\n",
    "nuovi_proprietari = {\"Ben\": \"Polo\", \"Fred\": \"Octavia\", \"Grace\": \"Yaris\", \"Hugh\": \"Clio\"}\n",
    "\n",
    "dizionario_auto.update(nuovi_proprietari)\n",
    "dizionario_auto\n",
    "# Ben è stato sovrascritto, perché già presente"
   ]
  },
  {
   "cell_type": "markdown",
   "id": "1ca54bd9",
   "metadata": {},
   "source": [
    "# Esercizio 33\n",
    "Abbiamo un dataset che assegna ad ogni proprietario la propria auto, in forma di dizionario:\n",
    "\n",
    "dizionario_auto = {\"Ada\": \"Punto\", \"Ben\": \"Multipla\", \"Charlie\": \"Golf\", \"Debbie\": \"107\", \"Emily\": \"A1\", \"Fred\": \"Octavia\", \"Grace\": \"Yaris\", \"Hugh\": \"Clio\"}\n",
    "Viene richiesto di ricercare in questo dataset i dati di Hugh, Ada, Emily e Debbie, e visualizzare le auto relative."
   ]
  },
  {
   "cell_type": "code",
   "execution_count": 18,
   "id": "3dda1866",
   "metadata": {},
   "outputs": [
    {
     "name": "stdout",
     "output_type": "stream",
     "text": [
      "Clio\n",
      "Punto\n",
      "A1\n",
      "107\n"
     ]
    }
   ],
   "source": [
    "dizionario_auto = {\"Ada\": \"Punto\", \"Ben\": \"Multipla\", \"Charlie\": \"Golf\", \"Debbie\": \"107\", \"Emily\": \"A1\", \"Fred\": \"Octavia\", \"Grace\": \"Yaris\", \"Hugh\": \"Clio\"}\n",
    "print(dizionario_auto[\"Hugh\"])\n",
    "print(dizionario_auto[\"Ada\"])\n",
    "print(dizionario_auto[\"Emily\"])\n",
    "print(dizionario_auto[\"Debbie\"])"
   ]
  },
  {
   "cell_type": "markdown",
   "id": "5054452d",
   "metadata": {},
   "source": [
    "# Esercizio 34\n",
    "Abbiamo un dataset che assegna ad ogni proprietario la propria auto, in forma di dizionario:\n",
    "\n",
    "dizionario_auto = {\"Ada\": \"Punto\", \"Ben\": \"Multipla\", \"Charlie\": \"Golf\", \"Debbie\": \"107\", \"Emily\": \"A1\", \"Fred\": \"Octavia\", \"Grace\": \"Yaris\", \"Hugh\": \"Clio\"}\n",
    "Viene richiesto di ricercare in questo dataset i dati di Ada, Emily, Jade, Ben, Hugh, Kelly e Charlie, e visualizzare le auto relative.\n",
    "\n",
    "Non tutti i dati potrebbero essere presenti nel dataset, quindi quando un nome non è presente visualizzeremo un messaggio adeguato."
   ]
  },
  {
   "cell_type": "code",
   "execution_count": 20,
   "id": "7d4132d9",
   "metadata": {},
   "outputs": [
    {
     "name": "stdout",
     "output_type": "stream",
     "text": [
      "Punto\n",
      "A1\n",
      "Non presente\n",
      "Multipla\n",
      "Clio\n",
      "Non presente\n",
      "Golf\n"
     ]
    }
   ],
   "source": [
    "dizionario_auto = {\"Ada\": \"Punto\", \"Ben\": \"Multipla\", \"Charlie\": \"Golf\", \"Debbie\": \"107\", \"Emily\": \"A1\", \"Fred\": \"Octavia\", \"Grace\": \"Yaris\", \"Hugh\": \"Clio\"}\n",
    "print(dizionario_auto.get(\"Ada\", \"Non presente\"))\n",
    "print(dizionario_auto.get(\"Emily\", \"Non presente\"))\n",
    "print(dizionario_auto.get(\"Jade\", \"Non presente\"))\n",
    "print(dizionario_auto.get(\"Ben\", \"Non presente\"))\n",
    "print(dizionario_auto.get(\"Hugh\", \"Non presente\"))\n",
    "print(dizionario_auto.get(\"Kelly\", \"Non presente\"))\n",
    "print(dizionario_auto.get(\"Charlie\", \"Non presente\"))"
   ]
  },
  {
   "cell_type": "markdown",
   "id": "41b61fa2",
   "metadata": {},
   "source": [
    "# Esercizio 35\n",
    "Abbiamo un dizionario:\n",
    "\n",
    "diz = {\"a\": 121, \"zy\": 3774, \"qop\": 147726, \"ab\": 328, \"k\": 12, \"clap\": 9}\n",
    "utilizzando il metodo .keys(), stampiamone tutte le chiavi."
   ]
  },
  {
   "cell_type": "code",
   "execution_count": 22,
   "id": "5f2234a7",
   "metadata": {},
   "outputs": [
    {
     "name": "stdout",
     "output_type": "stream",
     "text": [
      "dict_keys(['a', 'zy', 'qop', 'ab', 'k', 'clap'])\n"
     ]
    }
   ],
   "source": [
    "diz = {\"a\": 121, \"zy\": 3774, \"qop\": 147726, \"ab\": 328, \"k\": 12, \"clap\": 9}\n",
    "diz.keys()"
   ]
  },
  {
   "cell_type": "markdown",
   "id": "a270c9f5",
   "metadata": {},
   "source": [
    "# Esercizio 36\n",
    "Abbiamo un dizionario:\n",
    "\n",
    "diz = {\"a\": 121, \"zy\": 3774, \"qop\": 147726, \"ab\": 328, \"k\": 12, \"clap\": 9}\n",
    "utilizzando il metodo .values(), stampiamone tutte i valori."
   ]
  },
  {
   "cell_type": "code",
   "execution_count": 23,
   "id": "36f321e7",
   "metadata": {},
   "outputs": [
    {
     "data": {
      "text/plain": [
       "dict_values([121, 3774, 147726, 328, 12, 9])"
      ]
     },
     "execution_count": 23,
     "metadata": {},
     "output_type": "execute_result"
    }
   ],
   "source": [
    "diz = {\"a\": 121, \"zy\": 3774, \"qop\": 147726, \"ab\": 328, \"k\": 12, \"clap\": 9}\n",
    "diz.values()"
   ]
  },
  {
   "cell_type": "markdown",
   "id": "22ce5737",
   "metadata": {},
   "source": [
    "# Esercizio 37\n",
    "Abbiamo un dizionario:\n",
    "\n",
    "diz = {\"a\": 121, \"zy\": 3774, \"qop\": 147726, \"ab\": 328, \"k\": 12, \"clap\": 9}\n",
    "utilizzando il metodo dei dizionari .items() stampate le coppie chiave-valore presenti nel dizionario su righe diverse"
   ]
  },
  {
   "cell_type": "code",
   "execution_count": 18,
   "id": "032ff053",
   "metadata": {},
   "outputs": [
    {
     "name": "stdout",
     "output_type": "stream",
     "text": [
      "('a', 121)\n",
      "('zy', 3774)\n",
      "('qop', 147726)\n",
      "('ab', 328)\n",
      "('k', 12)\n",
      "('clap', 9)\n"
     ]
    }
   ],
   "source": [
    "diz = {\"a\": 121, \"zy\": 3774, \"qop\": 147726, \"ab\": 328, \"k\": 12, \"clap\": 9}\n",
    "print(*diz.items(), sep=\"\\n\")"
   ]
  },
  {
   "cell_type": "code",
   "execution_count": 15,
   "id": "14b3380a",
   "metadata": {},
   "outputs": [
    {
     "name": "stdout",
     "output_type": "stream",
     "text": [
      "(a, 121)\n",
      "(zy, 3774)\n",
      "(qop, 147726)\n",
      "(ab, 328)\n",
      "(k, 12)\n",
      "(clap, 9)\n"
     ]
    }
   ],
   "source": [
    "diz = {\"a\": 121, \"zy\": 3774, \"qop\": 147726, \"ab\": 328, \"k\": 12, \"clap\": 9}\n",
    "for item in diz:\n",
    "    print(f\"({item}, {diz[item]})\")"
   ]
  },
  {
   "cell_type": "markdown",
   "id": "20959c02",
   "metadata": {},
   "source": [
    "# Esercizio 38\n",
    "Abbiamo un dizionario:\n",
    "\n",
    "diz = {\"a\": 121, \"zy\": 3774, \"qop\": 147726, \"ab\": 328, \"k\": 12, \"clap\": 9}\n",
    "utilizzando il metodo dei dizionari .values(), calcolare il valore massimo, il valore minimo, la somma, e stampiamo i risultati."
   ]
  },
  {
   "cell_type": "code",
   "execution_count": 8,
   "id": "ca4b59ee",
   "metadata": {},
   "outputs": [
    {
     "name": "stdout",
     "output_type": "stream",
     "text": [
      "Massimo: 147726\n",
      "Minimo: 9\n",
      "Somma: 151970\n"
     ]
    }
   ],
   "source": [
    "diz = {\"a\": 121, \"zy\": 3774, \"qop\": 147726, \"ab\": 328, \"k\": 12, \"clap\": 9}\n",
    "\n",
    "numeri = diz.values()\n",
    "mass = max(numeri)\n",
    "minim = min(numeri)\n",
    "somma = sum(numeri)\n",
    "\n",
    "print(f\"Massimo: {mass}\")\n",
    "print(f\"Minimo: {minim}\")\n",
    "print(f\"Somma: {somma}\")"
   ]
  },
  {
   "cell_type": "markdown",
   "id": "bdd36cc8",
   "metadata": {},
   "source": [
    "# Esercizio 39\n",
    "Abbiamo un dizionario che assegna ad ogni proprietario la sua auto:\n",
    "\n",
    "dizionario_auto = {\"Ada\": \"Punto\", \"Ben\": \"Multipla\", \"Charlie\": \"Golf\", \"Debbie\": \"107\"}\n",
    "Con un ciclo for, e usando il metodo .items(), stampiamo ogni proprietario e la sua auto, formattandolo come:\n",
    "\n",
    "Ada guida una Punto\n",
    "Ben guida una Multipla"
   ]
  },
  {
   "cell_type": "code",
   "execution_count": 19,
   "id": "aac996c4",
   "metadata": {},
   "outputs": [
    {
     "name": "stdout",
     "output_type": "stream",
     "text": [
      "Ada guida una Punto\n",
      "Ben guida una Multipla\n",
      "Charlie guida una Golf\n",
      "Debbie guida una 107\n"
     ]
    }
   ],
   "source": [
    "dizionario_auto = {\"Ada\": \"Punto\", \"Ben\": \"Multipla\", \"Charlie\": \"Golf\", \"Debbie\": \"107\"}\n",
    "for item in dizionario_auto:\n",
    "    print(f\"{item} guida una {dizionario_auto[item]}\")"
   ]
  },
  {
   "cell_type": "markdown",
   "id": "257e5984",
   "metadata": {},
   "source": [
    "# Esercizio 40\n",
    "Abbiamo un dizionario che assegna ad ogni proprietario la sua auto:\n",
    "\n",
    "dizionario_auto = {\"Ada\": \"Punto\", \"Ben\": \"Multipla\", \"Charlie\": \"Golf\", \"Debbie\": \"107\"}\n",
    "Con un ciclo, e usando il metodo .values(), stampiamo a video tutte le auto che non sono una Multipla."
   ]
  },
  {
   "cell_type": "code",
   "execution_count": 22,
   "id": "1a231cf8",
   "metadata": {},
   "outputs": [
    {
     "name": "stdout",
     "output_type": "stream",
     "text": [
      "Ada guida una Punto\n",
      "Charlie guida una Golf\n",
      "Debbie guida una 107\n"
     ]
    }
   ],
   "source": [
    "dizionario_auto = {\"Ada\": \"Punto\", \"Ben\": \"Multipla\", \"Charlie\": \"Golf\", \"Debbie\": \"107\"}\n",
    "for item in dizionario_auto:\n",
    "    if dizionario_auto[item] != \"Multipla\":\n",
    "        print(f\"{item} guida una {dizionario_auto[item]}\")"
   ]
  },
  {
   "cell_type": "markdown",
   "id": "534b504e",
   "metadata": {},
   "source": [
    "# Esercizio 41\n",
    "Abbiamo i seguenti dati riguardo dei collezionisti e le loro collezioni:\n",
    "\n",
    "- Ada ha 10 Funko Pop, 5 action figures e 35 manga\n",
    "- Ben ha 2 Funko Pop, 6 action figures, 40 manga e 2 graphic novels\n",
    "- Charlie ha 31 action figures e 18 graphic novels\n",
    "- Debbie ha 1 Funko Pop, 9 graphic novels, 25 manga e 2 action figures\n",
    "\n",
    "Creare dei dizionari innestati che contengano questi dati, e quindi visualizzarli."
   ]
  },
  {
   "cell_type": "code",
   "execution_count": 24,
   "id": "062182d5",
   "metadata": {},
   "outputs": [
    {
     "name": "stdout",
     "output_type": "stream",
     "text": [
      "{'Ada': {'Funko Pop': 10, 'Action figures': 5, 'Manga': 35, 'Graphic novels': 0}, 'Ben': {'Funko Pop': 2, 'Action figures': 6, 'Manga': 40, 'Graphic novels': 2}, 'Charlie': {'Funko Pop': 0, 'Action figures': 31, 'Manga': 0, 'Graphic novels': 18}, 'Debbie': {'Funko Pop': 1, 'Action figures': 2, 'Manga': 25, 'Graphic novels': 9}}\n"
     ]
    }
   ],
   "source": [
    "collezioni = {\n",
    "    \"Ada\" : {\n",
    "        \"Funko Pop\" : 10,\n",
    "        \"Action figures\" : 5,\n",
    "        \"Manga\" : 35,\n",
    "        \"Graphic novels\" : 0\n",
    "    },\n",
    "    \"Ben\" : {\n",
    "        \"Funko Pop\" : 2,\n",
    "        \"Action figures\" : 6,\n",
    "        \"Manga\" : 40,\n",
    "        \"Graphic novels\" : 2\n",
    "    },\n",
    "    \"Charlie\" : {\n",
    "        \"Funko Pop\" : 0,\n",
    "        \"Action figures\" : 31,\n",
    "        \"Manga\" : 0,\n",
    "        \"Graphic novels\" : 18\n",
    "    },\n",
    "    \"Debbie\" : {\n",
    "        \"Funko Pop\" : 1,\n",
    "        \"Action figures\" : 2,\n",
    "        \"Manga\" : 25,\n",
    "        \"Graphic novels\" : 9\n",
    "    }\n",
    "}\n",
    "print(collezioni)"
   ]
  },
  {
   "cell_type": "markdown",
   "id": "20ccf17c",
   "metadata": {},
   "source": [
    "# Esercizio 42\n",
    "Abbiamo i seguenti dati riguardo dei collezionisti e le loro collezioni:\n",
    "\n",
    "- Ada ha 10 Funko Pop, 5 action figures e 35 manga\n",
    "- Ben ha 2 Funko Pop, 6 action figures, 40 manga e 2 graphic novels (entrambe della DC)\n",
    "- Charlie ha 31 action figures e 18 graphic novels (di cui 10 della Marvel e 8 della DC)\n",
    "- Debbie ha 1 Funko Pop, 9 graphic novels (di cui 4 della DC e 5 della Marvel), 25 manga e 2 action figures\n",
    "\n",
    "Creare dei dizionari innestati che contengano questi dati, e quindi visualizzarli."
   ]
  },
  {
   "cell_type": "code",
   "execution_count": 50,
   "id": "39466739",
   "metadata": {},
   "outputs": [
    {
     "name": "stdout",
     "output_type": "stream",
     "text": [
      "{'Ada': {'Funko Pop': 10, 'Action figures': 5, 'Manga': 35}, 'Ben': {'Funko Pop': 2, 'Action figures': 6, 'Manga': 40, 'Graphic novels': {'DC': 2}}, 'Charlie': {'Funko Pop': 0, 'Action figures': 31, 'Manga': 0, 'Graphic novels': {'DC': 8, 'Marvel': 10}}, 'Debbie': {'Funko Pop': 1, 'Action figures': 2, 'Manga': 25, 'Graphic novels': {'DC': 4, 'Marvel': 5}}}\n"
     ]
    }
   ],
   "source": [
    "collezioni2 = {\n",
    "    \"Ada\" : {\n",
    "        \"Funko Pop\" : 10,\n",
    "        \"Action figures\" : 5,\n",
    "        \"Manga\" : 35\n",
    "    },\n",
    "    \"Ben\" : {\n",
    "        \"Funko Pop\" : 2,\n",
    "        \"Action figures\" : 6,\n",
    "        \"Manga\" : 40,\n",
    "        \"Graphic novels\" : {\n",
    "            \"DC\" : 2\n",
    "        }\n",
    "    },\n",
    "    \"Charlie\" : {\n",
    "        \"Funko Pop\" : 0,\n",
    "        \"Action figures\" : 31,\n",
    "        \"Manga\" : 0,\n",
    "        \"Graphic novels\" : {\n",
    "            \"DC\" : 8,\n",
    "            \"Marvel\" : 10\n",
    "        }\n",
    "    },\n",
    "    \"Debbie\" : {\n",
    "        \"Funko Pop\" : 1,\n",
    "        \"Action figures\" : 2,\n",
    "        \"Manga\" : 25,\n",
    "        \"Graphic novels\" : {\n",
    "            \"DC\" : 4,\n",
    "            \"Marvel\" : 5\n",
    "        }\n",
    "    }\n",
    "}\n",
    "print(collezioni2)"
   ]
  },
  {
   "cell_type": "markdown",
   "id": "a025aac7",
   "metadata": {},
   "source": [
    "# Esercizio 43\n",
    "Riguardo l'esercizio precedente, stampiamo le risposte a:\n",
    "\n",
    "- quanti Funko Pop ha Ada?\n",
    "- quanti manga ha Ben?\n",
    "- quante graphic novels della Marvel ha Debbie?\n",
    "- quanti Funko Pop hanno Ada e Ben in tutto?\n",
    "- quanti manga hanno in tutto i collezionisti?\n",
    "- quante graphic novel della DC hanno in tutto i collezionisti?\n",
    "- quante graphic novel hanno in tutto i collezionisti?"
   ]
  },
  {
   "cell_type": "code",
   "execution_count": 55,
   "id": "51ed8477",
   "metadata": {},
   "outputs": [
    {
     "name": "stdout",
     "output_type": "stream",
     "text": [
      "Ada ha 10 Funko Pop\n",
      "Ben ha 40 manga\n",
      "Debbie ha 5 Graphic Novels della Marvel\n",
      "Ada e Ben hanno 12 Funko Pop in tutto\n",
      "I collezionisti hanno 100 manga in tutto\n",
      "I collezionisti hanno 14 graphic novels della DC in tutto\n",
      "I collezionisti hanno 29 graphic novels in tutto\n"
     ]
    }
   ],
   "source": [
    "# 1\n",
    "ada_fp = collezioni2[\"Ada\"][\"Funko Pop\"]\n",
    "print(f\"Ada ha {ada_fp} Funko Pop\")\n",
    "\n",
    "# 2\n",
    "ben_m = collezioni2[\"Ben\"][\"Manga\"]\n",
    "print(f\"Ben ha {ben_m} manga\")\n",
    "\n",
    "# 3\n",
    "debbie_gn_m = collezioni2[\"Debbie\"][\"Graphic novels\"][\"Marvel\"]\n",
    "print(f\"Debbie ha {debbie_gn_m} Graphic Novels della Marvel\")\n",
    "\n",
    "# 4\n",
    "ada_ben_fp = collezioni2[\"Ada\"][\"Funko Pop\"] + collezioni2[\"Ben\"][\"Funko Pop\"]\n",
    "print(f\"Ada e Ben hanno {ada_ben_fp} Funko Pop in tutto\")\n",
    "\n",
    "# 5\n",
    "manga_tot = 0\n",
    "for item in collezioni2:\n",
    "    manga_tot += collezioni2[item][\"Manga\"]\n",
    "print(f\"I collezionisti hanno {manga_tot} manga in tutto\")\n",
    "\n",
    "# 6\n",
    "gn_DC_tot = 0\n",
    "for item in collezioni2:\n",
    "    if \"Graphic novels\" in collezioni2[item]:\n",
    "        if \"DC\" in collezioni2[item][\"Graphic novels\"]:\n",
    "            gn_DC_tot += collezioni2[item][\"Graphic novels\"][\"DC\"]\n",
    "print(f\"I collezionisti hanno {gn_DC_tot} graphic novels della DC in tutto\")\n",
    "\n",
    "# 7\n",
    "gn_tot = 0\n",
    "for item in collezioni2:\n",
    "    if \"Graphic novels\" in collezioni2[item]:\n",
    "        for comic_home in collezioni2[item][\"Graphic novels\"]:\n",
    "            gn_tot += collezioni2[item][\"Graphic novels\"][comic_home]\n",
    "print(f\"I collezionisti hanno {gn_tot} graphic novels in tutto\")"
   ]
  },
  {
   "cell_type": "markdown",
   "id": "354a6e20",
   "metadata": {},
   "source": [
    "# Esercizio 44\n",
    "Abbiamo un insieme (set) di titoli di azioni \"growth\" (cioè che hanno una crescita dei ricavi maggiore della media):\n",
    "\n",
    "growth = {\"Tesla\", \"Shopify\", \"Block\", \"Etsy\", \"MercadoLibre\", \"Netflix\", \"Amazon\", \"Meta Platforms\", \"Salesforce\", \"Alphabet\"}\n",
    "\n",
    "Abbiamo un insieme di titoli \"value\" (cioè titoli che offrono agli investitori un elevato ritorno sull’investimento, garantendo al contempo stabilità e sicurezza):\n",
    "\n",
    "value = {\"Pfizer\", \"Johnson & Johnson\", \"JPMorgan Chase & Co.\", \"Wells Fargo & Co.\", \"Verizon Communications\", \"BP PLC\", \"LyondellBasell Industries\", \"MetLife\", \"Interactive Brokers Group\", \"Intel\"}\n",
    "\n",
    "Abbiamo un insieme di titoli di aziende ad alta tecnologia:\n",
    "\n",
    "tech = {\"Apple\", \"Microsoft\", \"Alphabet\", \"Amazon\", \"NVIDIA\", \"Meta Platforms\", \"Tesla\", \"Alibaba\", \"Salesforce\", \"Advanced Micro Devices\", \"Intel\", \"PayPal\", \"Activision Blizzard\", \"Electronic Arts\", \"The Trade Desk\", \"Zillow Group\", \"Match Group\", \"Yelp\"}\n",
    "\n",
    "Abbiamo un insieme di titoli di aziende nell'healthcare:\n",
    "\n",
    "healthcare = {\"UnitedHealth Group\", \"Johnson & Johnson\", \"Eli Lilly & Co.\", \"Novo Nordisk\", \"Merck & Co.\", \"Roche Holding\", \"Pfizer\", \"Thermo Fisher Scientific\", \"Abbott Laboratories\"}\n",
    "\n",
    "Un investitore vuole sapere:\n",
    "\n",
    "- se vuole diversificare l'investimento, investendo in aziende growth e value, quali sono le aziende?\n",
    "- quali sono le aziende tecnologiche growth?\n",
    "- se vuole investire sia in aziende tecnologiche che value, quali deve considerare?\n",
    "- quali sono i titoli healthcare che non sono value?\n",
    "- ci sono aziende sia tech che healthcare?\n",
    "- in quali deve investire se vuole azioni tech ma solo se siano growth o value?"
   ]
  },
  {
   "cell_type": "code",
   "execution_count": 69,
   "id": "63bd44e5",
   "metadata": {},
   "outputs": [
    {
     "name": "stdout",
     "output_type": "stream",
     "text": [
      "Aziende growth o value:\n",
      " {'Alphabet', 'BP PLC', 'Pfizer', 'Netflix', 'Johnson & Johnson', 'JPMorgan Chase & Co.', 'LyondellBasell Industries', 'Amazon', 'Etsy', 'MercadoLibre', 'Shopify', 'Wells Fargo & Co.', 'Interactive Brokers Group', 'Meta Platforms', 'Tesla', 'Salesforce', 'Verizon Communications', 'Intel', 'Block', 'MetLife'}\n",
      "\n",
      "Aziende tech & growth:\n",
      " {'Alphabet', 'Meta Platforms', 'Tesla', 'Salesforce', 'Amazon'}\n",
      "\n",
      "Aziende value o growth:\n",
      " {'Alphabet', 'BP PLC', 'Pfizer', 'Netflix', 'Johnson & Johnson', 'JPMorgan Chase & Co.', 'LyondellBasell Industries', 'Amazon', 'Etsy', 'MercadoLibre', 'Shopify', 'Wells Fargo & Co.', 'Interactive Brokers Group', 'Meta Platforms', 'Tesla', 'Salesforce', 'Verizon Communications', 'Intel', 'Block', 'MetLife'}\n",
      "\n",
      "Aziende healthcare non in growth:\n",
      " {'Eli Lilly & Co.', 'Merck & Co.', 'Roche Holding', 'UnitedHealth Group', 'Thermo Fisher Scientific', 'Abbott Laboratories', 'Novo Nordisk'}\n",
      "\n",
      "Aziende healthcare e tech:\n",
      " {'Pfizer', 'Johnson & Johnson'}\n",
      "\n",
      "Aziende tech ma solo se siano growth o value:\n",
      " {'Alphabet', 'Meta Platforms', 'Tesla', 'Salesforce', 'Amazon', 'Intel'}\n"
     ]
    }
   ],
   "source": [
    "growth = {\"Tesla\", \"Shopify\", \"Block\", \"Etsy\", \"MercadoLibre\", \"Netflix\", \"Amazon\", \"Meta Platforms\",\n",
    "          \"Salesforce\", \"Alphabet\"}\n",
    "value = {\"Pfizer\", \"Johnson & Johnson\", \"JPMorgan Chase & Co.\", \"Wells Fargo & Co.\", \"Verizon Communications\",\n",
    "         \"BP PLC\", \"LyondellBasell Industries\", \"MetLife\", \"Interactive Brokers Group\", \"Intel\"}\n",
    "tech = {\"Apple\", \"Microsoft\", \"Alphabet\", \"Amazon\", \"NVIDIA\", \"Meta Platforms\", \"Tesla\", \"Alibaba\",\n",
    "        \"Salesforce\", \"Advanced Micro Devices\", \"Intel\", \"PayPal\", \"Activision Blizzard\", \"Electronic Arts\",\n",
    "        \"The Trade Desk\", \"Zillow Group\", \"Match Group\", \"Yelp\"}\n",
    "healthcare = {\"UnitedHealth Group\", \"Johnson & Johnson\", \"Eli Lilly & Co.\", \"Novo Nordisk\", \"Merck & Co.\",\n",
    "              \"Roche Holding\", \"Pfizer\", \"Thermo Fisher Scientific\", \"Abbott Laboratories\"}\n",
    "\n",
    "print(\"Aziende growth o value:\\n\", growth | value)\n",
    "print(\"\\nAziende tech & growth:\\n\", growth & tech)\n",
    "print(\"\\nAziende value o growth:\\n\", growth | value)\n",
    "print(\"\\nAziende healthcare non in growth:\\n\", healthcare - value)\n",
    "print(\"\\nAziende healthcare e tech:\\n\", healthcare & value)\n",
    "print(\"\\nAziende tech ma solo se siano growth o value:\\n\", tech & (growth | value))"
   ]
  },
  {
   "cell_type": "code",
   "execution_count": null,
   "id": "0ef4107b",
   "metadata": {},
   "outputs": [],
   "source": []
  }
 ],
 "metadata": {
  "kernelspec": {
   "display_name": "Python 3 (ipykernel)",
   "language": "python",
   "name": "python3"
  },
  "language_info": {
   "codemirror_mode": {
    "name": "ipython",
    "version": 3
   },
   "file_extension": ".py",
   "mimetype": "text/x-python",
   "name": "python",
   "nbconvert_exporter": "python",
   "pygments_lexer": "ipython3",
   "version": "3.9.13"
  }
 },
 "nbformat": 4,
 "nbformat_minor": 5
}
