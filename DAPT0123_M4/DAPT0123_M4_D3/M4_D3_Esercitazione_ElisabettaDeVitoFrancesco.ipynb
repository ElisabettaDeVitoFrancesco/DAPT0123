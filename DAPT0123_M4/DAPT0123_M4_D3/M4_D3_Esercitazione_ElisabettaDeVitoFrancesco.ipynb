{
 "cells": [
  {
   "cell_type": "markdown",
   "id": "d88551a3",
   "metadata": {},
   "source": [
    "# M4 - D3 Costrutti condizionali e iterativi"
   ]
  },
  {
   "attachments": {
    "image.png": {
     "image/png": "[encoded data removed]"
    }
   },
   "cell_type": "markdown",
   "id": "ac6f28a8",
   "metadata": {},
   "source": [
    "# Esercizio 1\n",
    "![image.png](attachment:image.png)"
   ]
  },
  {
   "cell_type": "markdown",
   "id": "9b311d28",
   "metadata": {},
   "source": [
    "### Soluzione con random library"
   ]
  },
  {
   "cell_type": "code",
   "execution_count": 18,
   "id": "91c1ee39",
   "metadata": {},
   "outputs": [],
   "source": [
    "import random"
   ]
  },
  {
   "cell_type": "code",
   "execution_count": 3,
   "id": "104041a8",
   "metadata": {},
   "outputs": [
    {
     "name": "stdout",
     "output_type": "stream",
     "text": [
      "La posizione finale è (-30, -71)\n"
     ]
    }
   ],
   "source": [
    "direzioni_poss = [\"nord\", \"sud\", \"ovest\", \"est\"]\n",
    "nr_coord_poss = list(range(1,11,1))\n",
    "versi_poss = [\"+\", \"-\"]\n",
    "\n",
    "# Posizione iniziale della persona brilla\n",
    "x = 0\n",
    "y = 0\n",
    "\n",
    "# Iterazione iniziale delle intersezioni e numero massimo\n",
    "conta_passi = 0\n",
    "intersez = 100\n",
    "\n",
    "while conta_passi < intersez:\n",
    "    \n",
    "    # Selezione casuale delle direzione, verso e nr passi, ad ogni iterazione\n",
    "    direz = random.choice(direzioni_poss)\n",
    "    nr_coord = random.choice(nr_coord_poss)\n",
    "    verso = random.choice(versi_poss)\n",
    "    \n",
    "    # Condizioni a seconda della direzione\n",
    "    if direz == \"nord\" or direz == \"sud\":\n",
    "        y = y + int(verso + str(nr_coord))\n",
    "        \n",
    "    elif direz == \"est\" or direz == \"ovest\":\n",
    "        x = x + int(verso + str(nr_coord))\n",
    "        \n",
    "    else:\n",
    "        print(\"Scrivere le direzioni correttament, prego\")\n",
    "        break\n",
    "        \n",
    "    conta_passi += 1\n",
    "    \n",
    "print(f\"La posizione finale è ({x}, {y})\")"
   ]
  },
  {
   "cell_type": "markdown",
   "id": "ddc4f1ba",
   "metadata": {},
   "source": [
    "### Soluzione senza random library"
   ]
  },
  {
   "cell_type": "code",
   "execution_count": 35,
   "id": "8ed8c5e5",
   "metadata": {},
   "outputs": [],
   "source": [
    "# Popolazioni casuali da dove scegliere le direzioni, versi e nr passi ad ogni iterazione\n",
    "\n",
    "direz_poss = [\"nord\", \"nord\", \"ovest\", \"est\", \"sud\", \"est\", \"nord\", \"est\", \"sud\", \"nord\", \"ovest\",\n",
    "             \"est\", \"est\", \"nord\", \"est\", \"nord\", \"nord\", \"sud\", \"est\", \"nord\", \"ovest\", \"sud\", \"ovest\",\n",
    "            \"ovest\", \"est\", \"sud\", \"est\", \"nord\", \"nord\", \"ovest\", \"nord\", \"est\", \"nord\", \"nord\", \"ovest\",\n",
    "            \"sud\", \"est\", \"nord\", \"ovest\", \"est\", \"sud\", \"est\", \"nord\", \"est\", \"sud\", \"nord\", \"ovest\",\n",
    "             \"est\", \"est\", \"nord\", \"est\", \"est\", \"est\", \"nord\", \"est\", \"nord\", \"nord\", \"sud\", \"est\", \"nord\", \"ovest\",\n",
    "             \"sud\", \"ovest\", \"ovest\", \"est\",\"sud\", \"est\", \"sud\", \"ovest\", \"sud\", \"est\", \"ovest\", \"sud\", \"est\",\n",
    "             \"nord\", \"est\", \"est\", \"ovest\", \"sud\",  \"ovest\", \"sud\",  \"ovest\", \"sud\", \"ovest\", \"sud\",  \"nord\",\n",
    "             \"ovest\", \"est\", \"sud\", \"est\", \"nord\", \"nord\", \"ovest\", \"nord\", \"est\", \"ovest\", \"sud\", \"est\", \"nord\", \"ovest\",\n",
    "             \"nord\", \"est\", \"sud\", \"nord\", \"ovest\", \"est\", \"est\", \"nord\", \"est\", \"est\", \"est\", \"nord\", \"est\"]\n",
    "\n",
    "nr_coord_poss = [9, 3, 2, 7, 1, 2, 6, 3, 8, 5, 2, 8, 6, 2, 10, 2, 8, 9, 10, 4, 5, 6, 5, 6, 4, 10, 3, 8, 6, 4, 1,\n",
    "                 5, 8, 4, 6, 9, 5, 2, 1, 8, 8, 6, 2, 2, 4, 7, 6, 6, 4, 5, 8, 4, 5, 2, 9, 2, 1, 3, 9, 9, 6, 5, 7, \n",
    "                 9, 2, 3, 4, 5, 5, 4, 7, 2, 10, 3, 3, 9, 10, 2, 1, 3, 9, 3, 2, 4, 3, 5, 5, 1, 5, 3, 10, 5, 9, 4, \n",
    "                 2, 4, 4, 5, 2, 4, 2, 5, 6, 8, 1, 7, 9, 6, 1, 1, 3, 6, 10]\n",
    "\n",
    "versi_poss = ['-', '+', '-', '-', '+', '+', '+', '-', '-', '+', '+', '-', '+', '-', '+', '-', '-', '+', '+', '-',\n",
    "              '+', '-', '+', '-', '-', '-', '-', '-', '+', '+', '+', '+', '-', '-', '-', '+', '-', '-', '+', '-', \n",
    "              '-', '-', '+', '-', '+', '+', '+', '+', '-', '+', '+', '+', '-', '-', '-', '-', '-', '+', '+', '+', \n",
    "              '-', '-', '+', '+', '-', '+', '+', '+', '+', '+', '-', '+', '-', '+', '-', '-', '+', '-', '-', '+', \n",
    "              '-', '-', '-', '-', '+', '-', '-', '-', '+', '-', '+', '+', '-', '+', '-', '-', '-', '+', '-', '-', \n",
    "              '-', '-', '+', '+', '-', '-', '+', '+', '-', '+', '+', '-', '+']"
   ]
  },
  {
   "cell_type": "code",
   "execution_count": 37,
   "id": "9d8f3494",
   "metadata": {},
   "outputs": [
    {
     "name": "stdout",
     "output_type": "stream",
     "text": [
      "La posizione finale è (-8, -9)\n"
     ]
    }
   ],
   "source": [
    "# Posizione iniziale della persona brilla\n",
    "x = 0\n",
    "y = 0\n",
    "\n",
    "# Iterazione iniziale delle intersezioni e numero massimo\n",
    "conta_passi = 0\n",
    "intersez = 100\n",
    "\n",
    "while conta_passi < intersez:\n",
    "    # Incremento delle iterazioni dei passi\n",
    "    conta_passi += 1\n",
    "    \n",
    "    # Selezione semi-casuale delle direzione, verso e nr passi, ad ogni iterazione\n",
    "    direz = direz_poss[conta_passi]\n",
    "    nr_coord = nr_coord_poss[conta_passi]\n",
    "    verso = versi_poss[conta_passi]\n",
    "    \n",
    "    # Condizioni a seconda della direzione\n",
    "    if direz == \"nord\" or direz == \"sud\":\n",
    "        y = y + int(verso + str(nr_coord))\n",
    "    \n",
    "    elif direz == \"est\" or direz == \"ovest\":\n",
    "        x = x + int(verso + str(nr_coord))\n",
    "    \n",
    "    else:\n",
    "        print(\"Scrivere le direzioni correttament, prego\")\n",
    "        break\n",
    "\n",
    "print(f\"La posizione finale è ({x}, {y})\")"
   ]
  },
  {
   "cell_type": "code",
   "execution_count": 31,
   "id": "dac1547c",
   "metadata": {},
   "outputs": [],
   "source": [
    "# Preparazione casuale delle popolazioni da dove scegliere\n",
    "direzioni_p = [\"nord\", \"sud\", \"ovest\", \"est\"]\n",
    "nr_coord_p = list(range(1,11,1))\n",
    "versi_p = [\"+\", \"-\"]\n",
    "\n",
    "versi_poss = random.choices(versi_p, k=113)\n",
    "nr_coord_poss = random.choices(nr_coord_p, k=113)\n",
    "direz_poss = random.choices(direzioni_p, k=113)"
   ]
  },
  {
   "attachments": {
    "image.png": {
     "image/png": "[encoded data removed]"
    }
   },
   "cell_type": "markdown",
   "id": "a4332b4f",
   "metadata": {},
   "source": [
    "# Esercizio 2\n",
    "![image.png](attachment:image.png)"
   ]
  },
  {
   "cell_type": "code",
   "execution_count": 3,
   "id": "455fd3b3",
   "metadata": {},
   "outputs": [
    {
     "name": "stdout",
     "output_type": "stream",
     "text": [
      "Testo: Prova\n",
      "Prova\n"
     ]
    }
   ],
   "source": [
    "testo = input(\"Testo: \")\n",
    "if len(testo) >= 6:\n",
    "    start = testo[:3]\n",
    "    mid = \"...\"\n",
    "    end = testo[-3:]\n",
    "    testo_short = start + mid + end\n",
    "    print(testo_short)\n",
    "else:\n",
    "    print(testo)"
   ]
  },
  {
   "attachments": {
    "image.png": {
     "image/png": "[encoded data removed]"
    }
   },
   "cell_type": "markdown",
   "id": "8cf35d3f",
   "metadata": {},
   "source": [
    "# Esercizio 3\n",
    "![image.png](attachment:image.png)"
   ]
  },
  {
   "cell_type": "code",
   "execution_count": 26,
   "id": "1bffeb56",
   "metadata": {},
   "outputs": [
    {
     "name": "stdout",
     "output_type": "stream",
     "text": [
      "Nr intero positivo: 3875\n",
      "Il numero è 4096 = 2^12\n"
     ]
    }
   ],
   "source": [
    "x = int(input(\"Nr intero positivo: \"))\n",
    "potenza = 2\n",
    "esp = 1\n",
    "\n",
    "while potenza < x:\n",
    "    potenza *= 2\n",
    "    esp += 1\n",
    "\n",
    "print(f\"Il numero è {potenza} = 2^{esp}\")\n",
    "    "
   ]
  },
  {
   "attachments": {
    "image.png": {
     "image/png": "[encoded data removed]"
    }
   },
   "cell_type": "markdown",
   "id": "a4608c83",
   "metadata": {},
   "source": [
    "# Esercizio 4\n",
    "![image.png](attachment:image.png)"
   ]
  },
  {
   "cell_type": "code",
   "execution_count": 8,
   "id": "b05263d1",
   "metadata": {},
   "outputs": [
    {
     "name": "stdout",
     "output_type": "stream",
     "text": [
      "4\n",
      "8\n",
      "12\n",
      "16\n",
      "20\n",
      "24\n",
      "28\n",
      "32\n",
      "36\n",
      "40\n",
      "44\n",
      "48\n",
      "52\n",
      "56\n",
      "60\n",
      "64\n",
      "68\n",
      "72\n",
      "76\n",
      "80\n"
     ]
    }
   ],
   "source": [
    "m = 4\n",
    "print(4)\n",
    "while m < 80:\n",
    "    m += 4\n",
    "    print(m)"
   ]
  },
  {
   "attachments": {
    "image.png": {
     "image/png": "[encoded data removed]"
    }
   },
   "cell_type": "markdown",
   "id": "4e39bfca",
   "metadata": {},
   "source": [
    "# Esercizio 5\n",
    "![image.png](attachment:image.png)"
   ]
  },
  {
   "cell_type": "code",
   "execution_count": 94,
   "id": "ebcf6723",
   "metadata": {},
   "outputs": [],
   "source": [
    "parola = \"marmalade\""
   ]
  },
  {
   "cell_type": "code",
   "execution_count": 95,
   "id": "5a4b0db7",
   "metadata": {},
   "outputs": [
    {
     "name": "stdout",
     "output_type": "stream",
     "text": [
      "mermeleda\n"
     ]
    }
   ],
   "source": [
    "conta = -1\n",
    "\n",
    "while conta < (len(parola) - 1):\n",
    "    conta +=1\n",
    "    \n",
    "    if parola[conta] == \"a\":\n",
    "        parola = parola[0:conta] + \"e\" + parola[(conta+1):]\n",
    "    elif parola[conta] == \"e\":\n",
    "        parola = parola[0:conta] + \"a\" + parola[(conta+1):]\n",
    "    else:\n",
    "        parola = parola\n",
    "\n",
    "print(parola)"
   ]
  }
 ],
 "metadata": {
  "kernelspec": {
   "display_name": "Python 3 (ipykernel)",
   "language": "python",
   "name": "python3"
  },
  "language_info": {
   "codemirror_mode": {
    "name": "ipython",
    "version": 3
   },
   "file_extension": ".py",
   "mimetype": "text/x-python",
   "name": "python",
   "nbconvert_exporter": "python",
   "pygments_lexer": "ipython3",
   "version": "3.9.13"
  }
 },
 "nbformat": 4,
 "nbformat_minor": 5
}
