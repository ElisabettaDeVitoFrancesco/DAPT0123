{
 "cells": [
  {
   "cell_type": "markdown",
   "id": "352ba231",
   "metadata": {},
   "source": [
    "## Esercizio 2"
   ]
  },
  {
   "cell_type": "markdown",
   "id": "3e6941bf",
   "metadata": {},
   "source": [
    "In input:\n",
    "\n",
    "   - litri di benzina nel serbatoio\n",
    "   - efficienza espressa in litri per km\n",
    "   - prezzo della benzina per litro\n",
    "\n",
    "Visualizzare il costo per 100km e quanta distanza può percorrere l'auto con la benzina nel serbatoio."
   ]
  },
  {
   "cell_type": "code",
   "execution_count": 6,
   "id": "6c40e853",
   "metadata": {},
   "outputs": [
    {
     "name": "stdout",
     "output_type": "stream",
     "text": [
      "Benzina rimasta (L): 30\n"
     ]
    }
   ],
   "source": [
    "benzina = float(input(\"Benzina rimasta (L): \"))"
   ]
  },
  {
   "cell_type": "code",
   "execution_count": 7,
   "id": "c0679244",
   "metadata": {},
   "outputs": [
    {
     "name": "stdout",
     "output_type": "stream",
     "text": [
      "Efficienza (km/L): 48.8\n"
     ]
    }
   ],
   "source": [
    "eff = float(input(\"Efficienza (km/L): \"))"
   ]
  },
  {
   "cell_type": "code",
   "execution_count": 8,
   "id": "edc91ddb",
   "metadata": {},
   "outputs": [
    {
     "name": "stdout",
     "output_type": "stream",
     "text": [
      "Prezzo benzina (€/L): 1.85\n"
     ]
    }
   ],
   "source": [
    "prezzo = float(input(\"Prezzo benzina (€/L): \"))"
   ]
  },
  {
   "cell_type": "code",
   "execution_count": 12,
   "id": "933b9254",
   "metadata": {},
   "outputs": [
    {
     "name": "stdout",
     "output_type": "stream",
     "text": [
      "Il costo per la distanza di 100 km è € 3.790983606557378\n"
     ]
    }
   ],
   "source": [
    "costo_100km = (prezzo / eff) * 100\n",
    "print(\"Il costo per la distanza di 100 km è €\", costo_100km)"
   ]
  },
  {
   "cell_type": "code",
   "execution_count": 15,
   "id": "cc90661a",
   "metadata": {},
   "outputs": [
    {
     "name": "stdout",
     "output_type": "stream",
     "text": [
      "La distanza possibile con la benzina rimasta è km 1464.0\n"
     ]
    }
   ],
   "source": [
    "dist_poss = benzina * eff\n",
    "print(\"La distanza possibile con la benzina rimasta è km\", dist_poss)"
   ]
  },
  {
   "cell_type": "markdown",
   "id": "8e17b796",
   "metadata": {},
   "source": [
    "## Esercizio 3\n",
    "In input:\n",
    "\n",
    "- misura in metri\n",
    "\n",
    "Convertire in:\n",
    "\n",
    "- miglia\n",
    "- piedi\n",
    "- pollici"
   ]
  },
  {
   "cell_type": "code",
   "execution_count": 25,
   "id": "517a8219",
   "metadata": {},
   "outputs": [
    {
     "name": "stdout",
     "output_type": "stream",
     "text": [
      "Misura (m): 25\n"
     ]
    }
   ],
   "source": [
    "mis_m = float(input(\"Misura (m): \"))"
   ]
  },
  {
   "cell_type": "code",
   "execution_count": 26,
   "id": "d32280e5",
   "metadata": {},
   "outputs": [],
   "source": [
    "mis_mile = mis_m * 0.000621371"
   ]
  },
  {
   "cell_type": "code",
   "execution_count": 27,
   "id": "a0841349",
   "metadata": {},
   "outputs": [],
   "source": [
    "mis_ft = mis_m * 3.2808388799999997"
   ]
  },
  {
   "cell_type": "code",
   "execution_count": 28,
   "id": "5a7e8279",
   "metadata": {},
   "outputs": [],
   "source": [
    "mis_in = mis_m * 39.370066559999997935"
   ]
  },
  {
   "cell_type": "code",
   "execution_count": 31,
   "id": "75786648",
   "metadata": {},
   "outputs": [
    {
     "name": "stdout",
     "output_type": "stream",
     "text": [
      "m in miles: 0.015534275\n"
     ]
    }
   ],
   "source": [
    "print(\"m in miles:\", mis_mile)"
   ]
  },
  {
   "cell_type": "code",
   "execution_count": 30,
   "id": "f519e535",
   "metadata": {},
   "outputs": [
    {
     "name": "stdout",
     "output_type": "stream",
     "text": [
      "m in feet: 82.02097199999999\n"
     ]
    }
   ],
   "source": [
    "print(\"m in feet:\", mis_ft)"
   ]
  },
  {
   "cell_type": "code",
   "execution_count": 33,
   "id": "40346168",
   "metadata": {},
   "outputs": [
    {
     "name": "stdout",
     "output_type": "stream",
     "text": [
      "m in inch: 984.2516639999999\n"
     ]
    }
   ],
   "source": [
    "print(\"m in inch:\", mis_in)"
   ]
  },
  {
   "cell_type": "markdown",
   "id": "3bd3ee3b",
   "metadata": {},
   "source": [
    "## Esercizio 4\n",
    "In input una stringa, visualizzare i primi 3 caratteri seguiti da 3 punti di sospnesione e poi dagli ultimi 3 caratteri."
   ]
  },
  {
   "cell_type": "code",
   "execution_count": 16,
   "id": "35af2788",
   "metadata": {},
   "outputs": [
    {
     "name": "stdout",
     "output_type": "stream",
     "text": [
      "Inserisci un testo: prova testo\n"
     ]
    }
   ],
   "source": [
    "testo = input(\"Inserisci un testo: \")"
   ]
  },
  {
   "cell_type": "code",
   "execution_count": 20,
   "id": "8f5fe34c",
   "metadata": {},
   "outputs": [],
   "source": [
    "start = testo[:4]\n",
    "mid = \"...\"\n",
    "end = testo[-3:]"
   ]
  },
  {
   "cell_type": "code",
   "execution_count": 21,
   "id": "f8a40685",
   "metadata": {},
   "outputs": [],
   "source": [
    "testo_concat = start + mid + end"
   ]
  },
  {
   "cell_type": "code",
   "execution_count": 22,
   "id": "1fb815fe",
   "metadata": {},
   "outputs": [
    {
     "name": "stdout",
     "output_type": "stream",
     "text": [
      "prov...sto\n"
     ]
    }
   ],
   "source": [
    "print(testo_concat)"
   ]
  },
  {
   "cell_type": "code",
   "execution_count": null,
   "id": "29c11965",
   "metadata": {},
   "outputs": [],
   "source": []
  }
 ],
 "metadata": {
  "kernelspec": {
   "display_name": "Python 3 (ipykernel)",
   "language": "python",
   "name": "python3"
  },
  "language_info": {
   "codemirror_mode": {
    "name": "ipython",
    "version": 3
   },
   "file_extension": ".py",
   "mimetype": "text/x-python",
   "name": "python",
   "nbconvert_exporter": "python",
   "pygments_lexer": "ipython3",
   "version": "3.9.13"
  }
 },
 "nbformat": 4,
 "nbformat_minor": 5
}
